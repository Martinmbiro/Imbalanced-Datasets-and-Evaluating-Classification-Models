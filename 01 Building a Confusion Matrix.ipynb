{
  "nbformat": 4,
  "nbformat_minor": 0,
  "metadata": {
    "colab": {
      "provenance": [],
      "toc_visible": true
    },
    "kernelspec": {
      "name": "python3",
      "display_name": "Python 3"
    },
    "language_info": {
      "name": "python"
    }
  },
  "cells": [
    {
      "cell_type": "markdown",
      "source": [
        "# **Confusion Matrices**\n",
        "> This notebook focuses on the concepts of _imbalanced datasets_ and _confusion matrices_"
      ],
      "metadata": {
        "id": "Us0WI-CRO3bs"
      }
    },
    {
      "cell_type": "markdown",
      "source": [
        "## Load the data\n",
        "> The dataset in this exercise contains different classes of objects found in the snow, based on drone sensor data. The objects' features include `size`, `roughness`, `color` and `motion`\n",
        "\n",
        "> As is the norm, the dataset has to be loaded to be analysed"
      ],
      "metadata": {
        "id": "mDWnMoYcPdTw"
      }
    },
    {
      "cell_type": "code",
      "execution_count": null,
      "metadata": {
        "id": "lYcXqsCZOeQt"
      },
      "outputs": [],
      "source": [
        "import pandas as pd\n",
        "!wget https://raw.githubusercontent.com/MicrosoftDocs/mslearn-introduction-to-machine-learning/main/Data/snow_objects.csv\n",
        "\n",
        "dataset = pd.read_csv('snow_objects.csv', delimiter='\\t')"
      ]
    },
    {
      "cell_type": "code",
      "source": [
        "# dataset info\n",
        "dataset.info()"
      ],
      "metadata": {
        "colab": {
          "base_uri": "https://localhost:8080/"
        },
        "id": "PISI36LeQYt_",
        "outputId": "87fc3d3d-f61d-4175-ee3e-1a1e95fc2379"
      },
      "execution_count": null,
      "outputs": [
        {
          "output_type": "stream",
          "name": "stdout",
          "text": [
            "<class 'pandas.core.frame.DataFrame'>\n",
            "RangeIndex: 2200 entries, 0 to 2199\n",
            "Data columns (total 5 columns):\n",
            " #   Column     Non-Null Count  Dtype  \n",
            "---  ------     --------------  -----  \n",
            " 0   size       2200 non-null   float64\n",
            " 1   roughness  2200 non-null   float64\n",
            " 2   color      2200 non-null   object \n",
            " 3   motion     2200 non-null   float64\n",
            " 4   label      2200 non-null   object \n",
            "dtypes: float64(3), object(2)\n",
            "memory usage: 86.1+ KB\n"
          ]
        }
      ]
    },
    {
      "cell_type": "code",
      "source": [
        "# a little peek into the data\n",
        "dataset.head()"
      ],
      "metadata": {
        "id": "__5NYCngVrsQ",
        "outputId": "e3ccadec-0bf6-4e7e-aa85-1f2cc6ec8dd0",
        "colab": {
          "base_uri": "https://localhost:8080/",
          "height": 206
        }
      },
      "execution_count": null,
      "outputs": [
        {
          "output_type": "execute_result",
          "data": {
            "text/plain": [
              "        size  roughness  color    motion label\n",
              "0  50.959361   1.318226  green  0.054290  tree\n",
              "1  60.008521   0.554291  brown  0.000000  tree\n",
              "2  20.530772   1.097752  white  1.380464  tree\n",
              "3  28.092138   0.966482   grey  0.650528  tree\n",
              "4  48.344211   0.799093   grey  0.000000  tree"
            ],
            "text/html": [
              "\n",
              "  <div id=\"df-356e9c43-f335-4ddc-8038-b81a5e0b203d\" class=\"colab-df-container\">\n",
              "    <div>\n",
              "<style scoped>\n",
              "    .dataframe tbody tr th:only-of-type {\n",
              "        vertical-align: middle;\n",
              "    }\n",
              "\n",
              "    .dataframe tbody tr th {\n",
              "        vertical-align: top;\n",
              "    }\n",
              "\n",
              "    .dataframe thead th {\n",
              "        text-align: right;\n",
              "    }\n",
              "</style>\n",
              "<table border=\"1\" class=\"dataframe\">\n",
              "  <thead>\n",
              "    <tr style=\"text-align: right;\">\n",
              "      <th></th>\n",
              "      <th>size</th>\n",
              "      <th>roughness</th>\n",
              "      <th>color</th>\n",
              "      <th>motion</th>\n",
              "      <th>label</th>\n",
              "    </tr>\n",
              "  </thead>\n",
              "  <tbody>\n",
              "    <tr>\n",
              "      <th>0</th>\n",
              "      <td>50.959361</td>\n",
              "      <td>1.318226</td>\n",
              "      <td>green</td>\n",
              "      <td>0.054290</td>\n",
              "      <td>tree</td>\n",
              "    </tr>\n",
              "    <tr>\n",
              "      <th>1</th>\n",
              "      <td>60.008521</td>\n",
              "      <td>0.554291</td>\n",
              "      <td>brown</td>\n",
              "      <td>0.000000</td>\n",
              "      <td>tree</td>\n",
              "    </tr>\n",
              "    <tr>\n",
              "      <th>2</th>\n",
              "      <td>20.530772</td>\n",
              "      <td>1.097752</td>\n",
              "      <td>white</td>\n",
              "      <td>1.380464</td>\n",
              "      <td>tree</td>\n",
              "    </tr>\n",
              "    <tr>\n",
              "      <th>3</th>\n",
              "      <td>28.092138</td>\n",
              "      <td>0.966482</td>\n",
              "      <td>grey</td>\n",
              "      <td>0.650528</td>\n",
              "      <td>tree</td>\n",
              "    </tr>\n",
              "    <tr>\n",
              "      <th>4</th>\n",
              "      <td>48.344211</td>\n",
              "      <td>0.799093</td>\n",
              "      <td>grey</td>\n",
              "      <td>0.000000</td>\n",
              "      <td>tree</td>\n",
              "    </tr>\n",
              "  </tbody>\n",
              "</table>\n",
              "</div>\n",
              "    <div class=\"colab-df-buttons\">\n",
              "\n",
              "  <div class=\"colab-df-container\">\n",
              "    <button class=\"colab-df-convert\" onclick=\"convertToInteractive('df-356e9c43-f335-4ddc-8038-b81a5e0b203d')\"\n",
              "            title=\"Convert this dataframe to an interactive table.\"\n",
              "            style=\"display:none;\">\n",
              "\n",
              "  <svg xmlns=\"http://www.w3.org/2000/svg\" height=\"24px\" viewBox=\"0 -960 960 960\">\n",
              "    <path d=\"M120-120v-720h720v720H120Zm60-500h600v-160H180v160Zm220 220h160v-160H400v160Zm0 220h160v-160H400v160ZM180-400h160v-160H180v160Zm440 0h160v-160H620v160ZM180-180h160v-160H180v160Zm440 0h160v-160H620v160Z\"/>\n",
              "  </svg>\n",
              "    </button>\n",
              "\n",
              "  <style>\n",
              "    .colab-df-container {\n",
              "      display:flex;\n",
              "      gap: 12px;\n",
              "    }\n",
              "\n",
              "    .colab-df-convert {\n",
              "      background-color: #E8F0FE;\n",
              "      border: none;\n",
              "      border-radius: 50%;\n",
              "      cursor: pointer;\n",
              "      display: none;\n",
              "      fill: #1967D2;\n",
              "      height: 32px;\n",
              "      padding: 0 0 0 0;\n",
              "      width: 32px;\n",
              "    }\n",
              "\n",
              "    .colab-df-convert:hover {\n",
              "      background-color: #E2EBFA;\n",
              "      box-shadow: 0px 1px 2px rgba(60, 64, 67, 0.3), 0px 1px 3px 1px rgba(60, 64, 67, 0.15);\n",
              "      fill: #174EA6;\n",
              "    }\n",
              "\n",
              "    .colab-df-buttons div {\n",
              "      margin-bottom: 4px;\n",
              "    }\n",
              "\n",
              "    [theme=dark] .colab-df-convert {\n",
              "      background-color: #3B4455;\n",
              "      fill: #D2E3FC;\n",
              "    }\n",
              "\n",
              "    [theme=dark] .colab-df-convert:hover {\n",
              "      background-color: #434B5C;\n",
              "      box-shadow: 0px 1px 3px 1px rgba(0, 0, 0, 0.15);\n",
              "      filter: drop-shadow(0px 1px 2px rgba(0, 0, 0, 0.3));\n",
              "      fill: #FFFFFF;\n",
              "    }\n",
              "  </style>\n",
              "\n",
              "    <script>\n",
              "      const buttonEl =\n",
              "        document.querySelector('#df-356e9c43-f335-4ddc-8038-b81a5e0b203d button.colab-df-convert');\n",
              "      buttonEl.style.display =\n",
              "        google.colab.kernel.accessAllowed ? 'block' : 'none';\n",
              "\n",
              "      async function convertToInteractive(key) {\n",
              "        const element = document.querySelector('#df-356e9c43-f335-4ddc-8038-b81a5e0b203d');\n",
              "        const dataTable =\n",
              "          await google.colab.kernel.invokeFunction('convertToInteractive',\n",
              "                                                    [key], {});\n",
              "        if (!dataTable) return;\n",
              "\n",
              "        const docLinkHtml = 'Like what you see? Visit the ' +\n",
              "          '<a target=\"_blank\" href=https://colab.research.google.com/notebooks/data_table.ipynb>data table notebook</a>'\n",
              "          + ' to learn more about interactive tables.';\n",
              "        element.innerHTML = '';\n",
              "        dataTable['output_type'] = 'display_data';\n",
              "        await google.colab.output.renderOutput(dataTable, element);\n",
              "        const docLink = document.createElement('div');\n",
              "        docLink.innerHTML = docLinkHtml;\n",
              "        element.appendChild(docLink);\n",
              "      }\n",
              "    </script>\n",
              "  </div>\n",
              "\n",
              "\n",
              "<div id=\"df-18c5e274-7479-4ce4-b35d-4e2acbc646e9\">\n",
              "  <button class=\"colab-df-quickchart\" onclick=\"quickchart('df-18c5e274-7479-4ce4-b35d-4e2acbc646e9')\"\n",
              "            title=\"Suggest charts\"\n",
              "            style=\"display:none;\">\n",
              "\n",
              "<svg xmlns=\"http://www.w3.org/2000/svg\" height=\"24px\"viewBox=\"0 0 24 24\"\n",
              "     width=\"24px\">\n",
              "    <g>\n",
              "        <path d=\"M19 3H5c-1.1 0-2 .9-2 2v14c0 1.1.9 2 2 2h14c1.1 0 2-.9 2-2V5c0-1.1-.9-2-2-2zM9 17H7v-7h2v7zm4 0h-2V7h2v10zm4 0h-2v-4h2v4z\"/>\n",
              "    </g>\n",
              "</svg>\n",
              "  </button>\n",
              "\n",
              "<style>\n",
              "  .colab-df-quickchart {\n",
              "      --bg-color: #E8F0FE;\n",
              "      --fill-color: #1967D2;\n",
              "      --hover-bg-color: #E2EBFA;\n",
              "      --hover-fill-color: #174EA6;\n",
              "      --disabled-fill-color: #AAA;\n",
              "      --disabled-bg-color: #DDD;\n",
              "  }\n",
              "\n",
              "  [theme=dark] .colab-df-quickchart {\n",
              "      --bg-color: #3B4455;\n",
              "      --fill-color: #D2E3FC;\n",
              "      --hover-bg-color: #434B5C;\n",
              "      --hover-fill-color: #FFFFFF;\n",
              "      --disabled-bg-color: #3B4455;\n",
              "      --disabled-fill-color: #666;\n",
              "  }\n",
              "\n",
              "  .colab-df-quickchart {\n",
              "    background-color: var(--bg-color);\n",
              "    border: none;\n",
              "    border-radius: 50%;\n",
              "    cursor: pointer;\n",
              "    display: none;\n",
              "    fill: var(--fill-color);\n",
              "    height: 32px;\n",
              "    padding: 0;\n",
              "    width: 32px;\n",
              "  }\n",
              "\n",
              "  .colab-df-quickchart:hover {\n",
              "    background-color: var(--hover-bg-color);\n",
              "    box-shadow: 0 1px 2px rgba(60, 64, 67, 0.3), 0 1px 3px 1px rgba(60, 64, 67, 0.15);\n",
              "    fill: var(--button-hover-fill-color);\n",
              "  }\n",
              "\n",
              "  .colab-df-quickchart-complete:disabled,\n",
              "  .colab-df-quickchart-complete:disabled:hover {\n",
              "    background-color: var(--disabled-bg-color);\n",
              "    fill: var(--disabled-fill-color);\n",
              "    box-shadow: none;\n",
              "  }\n",
              "\n",
              "  .colab-df-spinner {\n",
              "    border: 2px solid var(--fill-color);\n",
              "    border-color: transparent;\n",
              "    border-bottom-color: var(--fill-color);\n",
              "    animation:\n",
              "      spin 1s steps(1) infinite;\n",
              "  }\n",
              "\n",
              "  @keyframes spin {\n",
              "    0% {\n",
              "      border-color: transparent;\n",
              "      border-bottom-color: var(--fill-color);\n",
              "      border-left-color: var(--fill-color);\n",
              "    }\n",
              "    20% {\n",
              "      border-color: transparent;\n",
              "      border-left-color: var(--fill-color);\n",
              "      border-top-color: var(--fill-color);\n",
              "    }\n",
              "    30% {\n",
              "      border-color: transparent;\n",
              "      border-left-color: var(--fill-color);\n",
              "      border-top-color: var(--fill-color);\n",
              "      border-right-color: var(--fill-color);\n",
              "    }\n",
              "    40% {\n",
              "      border-color: transparent;\n",
              "      border-right-color: var(--fill-color);\n",
              "      border-top-color: var(--fill-color);\n",
              "    }\n",
              "    60% {\n",
              "      border-color: transparent;\n",
              "      border-right-color: var(--fill-color);\n",
              "    }\n",
              "    80% {\n",
              "      border-color: transparent;\n",
              "      border-right-color: var(--fill-color);\n",
              "      border-bottom-color: var(--fill-color);\n",
              "    }\n",
              "    90% {\n",
              "      border-color: transparent;\n",
              "      border-bottom-color: var(--fill-color);\n",
              "    }\n",
              "  }\n",
              "</style>\n",
              "\n",
              "  <script>\n",
              "    async function quickchart(key) {\n",
              "      const quickchartButtonEl =\n",
              "        document.querySelector('#' + key + ' button');\n",
              "      quickchartButtonEl.disabled = true;  // To prevent multiple clicks.\n",
              "      quickchartButtonEl.classList.add('colab-df-spinner');\n",
              "      try {\n",
              "        const charts = await google.colab.kernel.invokeFunction(\n",
              "            'suggestCharts', [key], {});\n",
              "      } catch (error) {\n",
              "        console.error('Error during call to suggestCharts:', error);\n",
              "      }\n",
              "      quickchartButtonEl.classList.remove('colab-df-spinner');\n",
              "      quickchartButtonEl.classList.add('colab-df-quickchart-complete');\n",
              "    }\n",
              "    (() => {\n",
              "      let quickchartButtonEl =\n",
              "        document.querySelector('#df-18c5e274-7479-4ce4-b35d-4e2acbc646e9 button');\n",
              "      quickchartButtonEl.style.display =\n",
              "        google.colab.kernel.accessAllowed ? 'block' : 'none';\n",
              "    })();\n",
              "  </script>\n",
              "</div>\n",
              "\n",
              "    </div>\n",
              "  </div>\n"
            ],
            "application/vnd.google.colaboratory.intrinsic+json": {
              "type": "dataframe",
              "variable_name": "dataset",
              "summary": "{\n  \"name\": \"dataset\",\n  \"rows\": 2200,\n  \"fields\": [\n    {\n      \"column\": \"size\",\n      \"properties\": {\n        \"dtype\": \"number\",\n        \"std\": 72.84391408459265,\n        \"min\": 0.2,\n        \"max\": 2730.8597677938124,\n        \"num_unique_values\": 2138,\n        \"samples\": [\n          29.50257425391656,\n          22.11380764113784,\n          1.6999347703656849\n        ],\n        \"semantic_type\": \"\",\n        \"description\": \"\"\n      }\n    },\n    {\n      \"column\": \"roughness\",\n      \"properties\": {\n        \"dtype\": \"number\",\n        \"std\": 0.3531536018496699,\n        \"min\": 0.0,\n        \"max\": 2.1091539191943203,\n        \"num_unique_values\": 2191,\n        \"samples\": [\n          1.4395050881729623,\n          0.6070424205445816,\n          1.621563204490522\n        ],\n        \"semantic_type\": \"\",\n        \"description\": \"\"\n      }\n    },\n    {\n      \"column\": \"color\",\n      \"properties\": {\n        \"dtype\": \"category\",\n        \"num_unique_values\": 8,\n        \"samples\": [\n          \"brown\",\n          \"blue\",\n          \"green\"\n        ],\n        \"semantic_type\": \"\",\n        \"description\": \"\"\n      }\n    },\n    {\n      \"column\": \"motion\",\n      \"properties\": {\n        \"dtype\": \"number\",\n        \"std\": 1.5256145753789594,\n        \"min\": 0.0,\n        \"max\": 10.503014402535412,\n        \"num_unique_values\": 1857,\n        \"samples\": [\n          0.7603199678449453,\n          0.6687095518327993,\n          0.047229641051212\n        ],\n        \"semantic_type\": \"\",\n        \"description\": \"\"\n      }\n    },\n    {\n      \"column\": \"label\",\n      \"properties\": {\n        \"dtype\": \"category\",\n        \"num_unique_values\": 4,\n        \"samples\": [\n          \"rock\",\n          \"animal\",\n          \"tree\"\n        ],\n        \"semantic_type\": \"\",\n        \"description\": \"\"\n      }\n    }\n  ]\n}"
            }
          },
          "metadata": {},
          "execution_count": 3
        }
      ]
    },
    {
      "cell_type": "markdown",
      "source": [
        "## Data exploration\n",
        "> The dataset contains both continuous numerical data and categorical data\n",
        "> + Numerical data: `size`, `roughness` & `motion`\n",
        "> + Categorical data: `color` & `label`"
      ],
      "metadata": {
        "id": "35stN2dGWioy"
      }
    },
    {
      "cell_type": "markdown",
      "source": [
        "### Exploring `label` distribution\n",
        "> Since the `label` column contains categorical data, the `value_counts` for each label class will be used to visualize distribution in a [`bar`](https://matplotlib.org/stable/api/_as_gen/matplotlib.pyplot.bar.html) graph"
      ],
      "metadata": {
        "id": "rPU7j6kRXNrV"
      }
    },
    {
      "cell_type": "code",
      "source": [
        "# value_counts for each label class\n",
        "dataset['label'].value_counts().sort_values()"
      ],
      "metadata": {
        "colab": {
          "base_uri": "https://localhost:8080/"
        },
        "id": "5KeZA0kCYOOD",
        "outputId": "8fcde22a-049d-411b-f5a1-150cbb1ec0dc"
      },
      "execution_count": null,
      "outputs": [
        {
          "output_type": "execute_result",
          "data": {
            "text/plain": [
              "label\n",
              "animal    200\n",
              "hiker     400\n",
              "tree      800\n",
              "rock      800\n",
              "Name: count, dtype: int64"
            ]
          },
          "metadata": {},
          "execution_count": 4
        }
      ]
    },
    {
      "cell_type": "code",
      "source": [
        "# plotting a bar graph of that\n",
        "import matplotlib.pyplot as plt\n",
        "# specify stylesheet\n",
        "plt.style.use('fast')\n",
        "\n",
        "# initialize figure and axes\n",
        "fig, ax = plt.subplots(figsize=(6, 3.5))\n",
        "# bar plot\n",
        "dataset['label'].value_counts().sort_values().plot.bar(\n",
        "    ax = ax,\n",
        "    color=['#DC143C', '#ED9121', '#7BA05B', '#1B1B1B'],\n",
        "    width=0.85\n",
        ")\n",
        "\n",
        "# modify the plot appearance\n",
        "ax.set_title('Label Distribution', fontsize=13)\n",
        "ax.set_ylabel('Count', fontsize=10)\n",
        "ax.set_xlabel('Label', fontsize=10)\n",
        "ax.set_xticklabels(['animal', 'hiker', 'tree', 'rock'],\n",
        "                   rotation=0, weight='black', fontsize=9)\n",
        "plt.show()"
      ],
      "metadata": {
        "colab": {
          "base_uri": "https://localhost:8080/"
        },
        "id": "-RsgLw7TYg76",
        "outputId": "e2fff0a8-9fca-4fd8-ce4f-e1404bf88cfa"
      },
      "execution_count": null,
      "outputs": [
        {
          "output_type": "display_data",
          "data": {
            "text/plain": [
              "<Figure size 600x350 with 1 Axes>"
            ],
            "image/png": "[encoded data removed]"
          },
          "metadata": {}
        }
      ]
    },
    {
      "cell_type": "markdown",
      "source": [
        "> 💡 **Insight**\n",
        "> + The dataset contains 4 label classes\n",
        "> + This is an _imbalanced_ dataset: classes are not represented in the same proportion (there's 4 times more rocks and trees than animals, for instance)"
      ],
      "metadata": {
        "id": "iG7ECje4Uyfq"
      }
    },
    {
      "cell_type": "markdown",
      "source": [
        "### Exploring `color` distribution\n",
        "> Similarly, since the `color` column contains categorical data, the `value_counts` for each `color` will be used to visualize distribution"
      ],
      "metadata": {
        "id": "qwaMILdqXTEe"
      }
    },
    {
      "cell_type": "code",
      "source": [
        "# value_counts for each color\n",
        "dataset['color'].value_counts().sort_values()"
      ],
      "metadata": {
        "colab": {
          "base_uri": "https://localhost:8080/"
        },
        "id": "Ut99OqEsX8oe",
        "outputId": "78877005-83a9-43b7-ad21-57b29892b345"
      },
      "execution_count": null,
      "outputs": [
        {
          "output_type": "execute_result",
          "data": {
            "text/plain": [
              "color\n",
              "orange     18\n",
              "red        29\n",
              "blue       42\n",
              "black     288\n",
              "green     317\n",
              "grey      332\n",
              "white     537\n",
              "brown     637\n",
              "Name: count, dtype: int64"
            ]
          },
          "metadata": {},
          "execution_count": 6
        }
      ]
    },
    {
      "cell_type": "code",
      "source": [
        "color_codes = ['#FF4F00', '#FF0800', '#007FFF', '#000000', '#177245', '#848482', '#E5E4E2', '#9F8170']\n",
        "color_names = ['orange', 'red', 'blue', 'black', 'green', 'grey', 'white', 'brown']\n",
        "# plotting a bar graph of that\n",
        "\n",
        "# define the figure and axes\n",
        "fig, ax = plt.subplots(figsize=(7, 3.5))\n",
        "# bar plot\n",
        "dataset['color'].value_counts().sort_values().plot.bar(\n",
        "    ax = ax,\n",
        "    color = color_codes,\n",
        "    width = 0.85\n",
        ")\n",
        "\n",
        "# modify plot apperance\n",
        "ax.set_title('Color Distribution', weight='black', fontsize=13)\n",
        "ax.set_ylabel('Count', fontsize=10)\n",
        "ax.set_xlabel('Label', fontsize=10)\n",
        "ax.set_xticklabels(color_names,\n",
        "                   rotation=0, weight='black', fontsize=9)\n",
        "plt.show()"
      ],
      "metadata": {
        "colab": {
          "base_uri": "https://localhost:8080/"
        },
        "id": "HLEZuamVQj9A",
        "outputId": "10d8c652-a796-4de0-a316-c7bd81315742"
      },
      "execution_count": null,
      "outputs": [
        {
          "output_type": "display_data",
          "data": {
            "text/plain": [
              "<Figure size 700x350 with 1 Axes>"
            ],
            "image/png": "[encoded data removed]"
          },
          "metadata": {}
        }
      ]
    },
    {
      "cell_type": "markdown",
      "source": [
        "> 💡 **Insight**\n",
        "> + The dataset contains 8 distinct colors\n",
        "> + The `color` feature is also heavily imbalanced"
      ],
      "metadata": {
        "id": "QN9UNRV4VZCb"
      }
    },
    {
      "cell_type": "markdown",
      "source": [
        "### Exploring the distribution of numerical features\n",
        "> The distribution of numerical features: `size`, `roughness` & `motion` will be exlored using a [`boxplot`](https://matplotlib.org/stable/api/_as_gen/matplotlib.pyplot.boxplot.html)"
      ],
      "metadata": {
        "id": "7MyX4K4lXZ_A"
      }
    },
    {
      "cell_type": "code",
      "source": [
        "# define a list with the numerical column names:\n",
        "num_cols = ['size', 'roughness', 'motion']\n",
        "\n",
        "for col in num_cols:\n",
        "  # specify a subplot with 1 row & 2 columns\n",
        "  fig, axs = plt.subplots(1, 2, figsize=(8, 3.5))\n",
        "\n",
        "  # box plot 0 (with fliers):\n",
        "  dataset.plot.box(\n",
        "                  column=col,\n",
        "                  flierprops=dict(marker='.', markeredgecolor='#FF0800'),\n",
        "                  showfliers=True,\n",
        "                   ax = axs[0])\n",
        "\n",
        "  # box plot 1 (without fliers):\n",
        "  dataset.plot.box(\n",
        "                  column=col,\n",
        "                  flierprops=dict(marker='.', markeredgecolor='#FF0800'),\n",
        "                  meanprops=dict(linestyle='--', color='#8B008B', linewidth=1.5),\n",
        "                  meanline=True,\n",
        "                  showmeans=True,\n",
        "                  showfliers=False,\n",
        "                   ax = axs[1])\n",
        "\n",
        "  # modify plot appearance\n",
        "  plt.suptitle(f'{col} Distribution', weight='black', fontsize=11)\n",
        "  axs[0].set_ylabel('Distribution')\n",
        "  axs[0].grid(axis=\"y\", color=\"#dbd7d2\", alpha=0.7)\n",
        "  axs[0].set_title('with outliers', fontsize=10)\n",
        "\n",
        "  axs[1].set_title('without outliers', fontsize=10)\n",
        "  axs[1].grid(axis=\"y\", color=\"#dbd7d2\", alpha=0.7)\n",
        "  plt.show()\n",
        "  print('\\n')"
      ],
      "metadata": {
        "colab": {
          "base_uri": "https://localhost:8080/"
        },
        "id": "s7-2V-KyYWvG",
        "outputId": "7729f84f-5f30-454a-bedf-9a180763807b"
      },
      "execution_count": null,
      "outputs": [
        {
          "output_type": "display_data",
          "data": {
            "text/plain": [
              "<Figure size 800x350 with 2 Axes>"
            ],
            "image/png": "[encoded data removed]"
          },
          "metadata": {}
        },
        {
          "output_type": "stream",
          "name": "stdout",
          "text": [
            "\n",
            "\n"
          ]
        },
        {
          "output_type": "display_data",
          "data": {
            "text/plain": [
              "<Figure size 800x350 with 2 Axes>"
            ],
            "image/png": "[encoded data removed]"
          },
          "metadata": {}
        },
        {
          "output_type": "stream",
          "name": "stdout",
          "text": [
            "\n",
            "\n"
          ]
        },
        {
          "output_type": "display_data",
          "data": {
            "text/plain": [
              "<Figure size 800x350 with 2 Axes>"
            ],
            "image/png": "[encoded data removed]"
          },
          "metadata": {}
        },
        {
          "output_type": "stream",
          "name": "stdout",
          "text": [
            "\n",
            "\n"
          ]
        }
      ]
    },
    {
      "cell_type": "markdown",
      "source": [
        "> 💡 **Insight**\n",
        "> + Majority of `size` samples with small, with samples ranging from `0` to `70`, with few bigger outliers  \n",
        "> + There isn't a lot of variation in the `roughness` feature, with most values close to the mean. Values range between `0` and around `2`\n",
        "> + From the `motion` boxplots, most objects seem to be either static or moving very slowly. There's a smaller number of objects moving faster, with a couple of outliers over `10`\n",
        ">> It can be assumed that the smaller and faster objects are `hikers` and `animals` whereas the more static, bigger objects are likely `trees` and `rocks`"
      ],
      "metadata": {
        "id": "d42FeIClPR7s"
      }
    },
    {
      "cell_type": "markdown",
      "source": [
        "## Building a classification model\n",
        "> We'll use a [`RandomForestClassifier`](https://scikit-learn.org/stable/modules/generated/sklearn.ensemble.RandomForestClassifier.html) to predict the class an object belongs to"
      ],
      "metadata": {
        "id": "SNdO7KGjXqTt"
      }
    },
    {
      "cell_type": "code",
      "source": [
        "# divide the dataset into X(features) and y(label)\n",
        "# leave out the color column for now:\n",
        "X = dataset[['size', 'roughness', 'motion']].copy()\n",
        "\n",
        "# label\n",
        "y = dataset['label']"
      ],
      "metadata": {
        "id": "SSoAueWsS9Vd"
      },
      "execution_count": null,
      "outputs": []
    },
    {
      "cell_type": "code",
      "source": [
        "# import train_test_split\n",
        "from sklearn.model_selection import train_test_split\n",
        "\n",
        "# split the dataset into 70 / 30\n",
        "X_train, X_test, y_train, y_test = train_test_split(X, y,\n",
        "                                                    test_size=0.3, random_state=2)\n",
        "\n",
        "print(f'Training set size: {X_train.shape}')\n",
        "print(f'Test set size: {X_test.shape}')"
      ],
      "metadata": {
        "colab": {
          "base_uri": "https://localhost:8080/"
        },
        "id": "5TNmWrJ2ScnV",
        "outputId": "eb021042-e2f7-4c6a-da1a-d9b9616b8e77"
      },
      "execution_count": null,
      "outputs": [
        {
          "output_type": "stream",
          "name": "stdout",
          "text": [
            "Training set size: (1540, 3)\n",
            "Test set size: (660, 3)\n"
          ]
        }
      ]
    },
    {
      "cell_type": "markdown",
      "source": [
        "> Training the model on the data"
      ],
      "metadata": {
        "id": "nL9H1dN1U8uE"
      }
    },
    {
      "cell_type": "code",
      "source": [
        "%%time\n",
        "# import RandomForestClassfier\n",
        "from sklearn.ensemble import RandomForestClassifier\n",
        "\n",
        "# create model\n",
        "model = RandomForestClassifier(n_estimators=1,\n",
        "                               random_state=1, verbose=False, n_jobs=-1)\n",
        "\n",
        "# train\n",
        "model.fit(X_train, y_train)\n",
        "print(\"\")"
      ],
      "metadata": {
        "colab": {
          "base_uri": "https://localhost:8080/"
        },
        "id": "5t0eKmLAVAqJ",
        "outputId": "a598feba-3845-492a-d236-2b1bcdf8783b"
      },
      "execution_count": null,
      "outputs": [
        {
          "output_type": "stream",
          "name": "stdout",
          "text": [
            "\n",
            "CPU times: user 293 ms, sys: 31.9 ms, total: 325 ms\n",
            "Wall time: 519 ms\n"
          ]
        }
      ]
    },
    {
      "cell_type": "markdown",
      "source": [
        "## Assessing the model's `accuracy_score`\n",
        "> [`scikit-learn's`](https://scikit-learn.org/stable/index.html) [`accuracy_score`](https://scikit-learn.org/stable/modules/generated/sklearn.metrics.accuracy_score.html) can be used to calculate an accuracy classification score"
      ],
      "metadata": {
        "id": "MUWVsEjxX9Ad"
      }
    },
    {
      "cell_type": "markdown",
      "source": [
        "> **Returns:**\n",
        "+ The fraction of correctly classified samples (`float`) when `normalize == True` else returns the number of correctly classified samples (`int`)"
      ],
      "metadata": {
        "id": "Iml2dI0NOTt7"
      }
    },
    {
      "cell_type": "code",
      "source": [
        "from sklearn.metrics import accuracy_score\n",
        "\n",
        "# make predictions using the model\n",
        "y_pred = model.predict(X_test)\n",
        "\n",
        "# accuracy as a fraction\n",
        "acc_frac = accuracy_score(y_test, y_pred, normalize=True)\n",
        "\n",
        "# number of correcly classified samples\n",
        "correct_samples = accuracy_score(y_test, y_pred, normalize=False)\n",
        "\n",
        "print(f\"The RandomForest model's accuracy on the test data: {round(acc_frac, 4)}\")\n",
        "print(f\"Correctly predicted labels: {correct_samples}, out of {len(y_test)}\")"
      ],
      "metadata": {
        "colab": {
          "base_uri": "https://localhost:8080/"
        },
        "id": "gt4mhfw3NoZf",
        "outputId": "4010afa5-fe8f-4dd0-cfe2-762a67d4edba"
      },
      "execution_count": null,
      "outputs": [
        {
          "output_type": "stream",
          "name": "stdout",
          "text": [
            "The RandomForest model's accuracy on the test data: 0.8924\n",
            "Correctly predicted labels: 589, out of 660\n"
          ]
        }
      ]
    },
    {
      "cell_type": "markdown",
      "source": [
        "> 💡 **Insight**  \n",
        "> Based on the classification `accuracy_score` alone, the model is seemingly doing well. However, this might be misleading due to a number of reasons:  \n",
        "+ `accuracy_score` does not take into account wrong predictions made by the model\n",
        "+ `accuracy_score` does not paint a good picture in datasets where the data is skewed towards on class\n",
        "+ The model might be poorly performing in one class, but due to the data being skewed towards the majority class, the `accuracy_score` will be biased\n",
        "+ `accuracy_score` can therefore result in a falsely optimistic evaluation of a model's performance, and the inability to detect misclassification of minority classes"
      ],
      "metadata": {
        "id": "PykQ46wiQIYl"
      }
    },
    {
      "cell_type": "markdown",
      "source": [
        "> 📝 **Therefore**\n",
        "> + Alongside `accuracy_score`, one should consider other evaluation metrics for classification models such as `precision`, `recall`, `f1-score` or `kappa`"
      ],
      "metadata": {
        "id": "z6NV7kLfPVGd"
      }
    },
    {
      "cell_type": "markdown",
      "source": [
        "## Building a `confusion_matrix`\n",
        "> A [`confusion_matrix`](https://scikit-learn.org/stable/modules/generated/sklearn.metrics.confusion_matrix.html) is a table used to evaluate the performance of a classificatin algorithm  \n",
        "> + It gives a little more detail on the model's performance since it compared the predicted category labels to the actual labels."
      ],
      "metadata": {
        "id": "LT_OxzqTVEB5"
      }
    },
    {
      "cell_type": "markdown",
      "source": [
        "> scikit-learn provides the `sklearn.metrics.confusion_matrix()` method that can be used to build a confusion matrix  \n",
        "> **Parameters:**\n",
        "+ **y_true: array-like of shape** - Ground truth (correct) target values  \n",
        "+ **y_pred: array-like of shape** - Estimated targets as returned by a classifier   \n",
        "+  **labels: array-like of shape (n_classes), default=None** - List of labels to index the matrix   \n",
        "\n",
        "> **Returns:**\n",
        "+ Confusion matrix whose i-th row and j-th column entry indicates the number of samples with true label being i-th class and predicted label being j-th class.\n"
      ],
      "metadata": {
        "id": "A6T0mmSgOffv"
      }
    },
    {
      "cell_type": "code",
      "source": [
        "# import confusion matrix\n",
        "from sklearn.metrics import confusion_matrix\n",
        "\n",
        "# build confusion matrix using y_test, and y_pred\n",
        "cm = confusion_matrix(y_test, y_pred)\n",
        "print(cm)"
      ],
      "metadata": {
        "colab": {
          "base_uri": "https://localhost:8080/"
        },
        "id": "J-CQvxckSDg-",
        "outputId": "30d66f13-c2f8-4e26-980d-46df660bac7c"
      },
      "execution_count": null,
      "outputs": [
        {
          "output_type": "stream",
          "name": "stdout",
          "text": [
            "[[ 28  38   0   0]\n",
            " [ 30 103   1   0]\n",
            " [  0   1 217   1]\n",
            " [  0   0   0 241]]\n"
          ]
        }
      ]
    },
    {
      "cell_type": "markdown",
      "source": [
        "#### Visualizing the `confusion_matrix` using [`ConfusionMatrixDisplay`](https://scikit-learn.org/stable/modules/generated/sklearn.metrics.ConfusionMatrixDisplay.html)\n",
        "> The preceding matrix is not very intuitive, and could do better with a sketch. That can be done using `scikit-learn's` [`ConfusionMatrixDisplay`](https://scikit-learn.org/stable/modules/generated/sklearn.metrics.ConfusionMatrixDisplay.html) class  \n",
        "\n",
        "> The `ConfusionMatrixDisplay` class has 2 _classmethods:_\n",
        "+ [`from_estimator()`]([`ConfusionMatrixDisplay`](https://scikit-learn.org/stable/modules/generated/sklearn.metrics.ConfusionMatrixDisplay.html) - Plot the confusion matrix given an estimator, the data, and the label.  \n",
        "+ [`from_predictions()`]([`ConfusionMatrixDisplay`](https://scikit-learn.org/stable/modules/generated/sklearn.metrics.ConfusionMatrixDisplay.html) - Plot the confusion matrix given the true and predicted labels"
      ],
      "metadata": {
        "id": "kEPzqOCGSuaG"
      }
    },
    {
      "cell_type": "code",
      "source": [
        "# import ConfusionMatrixDisplay\n",
        "from sklearn.metrics import ConfusionMatrixDisplay\n",
        "import matplotlib.pyplot as plt\n",
        "\n",
        "# define an Axes and figure\n",
        "fig, ax = plt.subplots(figsize=(3.5, 3.5))\n",
        "\n",
        "# ConfusionMatrixDisplay\n",
        "ConfusionMatrixDisplay.from_predictions(y_test, y_pred,\n",
        "                                        cmap='Blues',\n",
        "                                        colorbar=False,\n",
        "                                        ax = ax)\n",
        "\n",
        "# modify label appearance\n",
        "ax.set_ylabel('Actual Labels', weight='black', color='#003262')\n",
        "ax.set_xlabel('Predicted Labels', weight='black', color='#E52B50')\n",
        "\n",
        "# move the xaxis ticks and label to top of plot\n",
        "ax.xaxis.tick_top()\n",
        "ax.xaxis.set_label_position('top')\n",
        "\n",
        "plt.show()"
      ],
      "metadata": {
        "colab": {
          "base_uri": "https://localhost:8080/",
          "height": 346
        },
        "id": "D6B_lJn7XYIc",
        "outputId": "6fdbba68-68b6-42b0-8bc8-0b26b9cafcc6"
      },
      "execution_count": null,
      "outputs": [
        {
          "output_type": "display_data",
          "data": {
            "text/plain": [
              "<Figure size 350x350 with 1 Axes>"
            ],
            "image/png": "[encoded data removed]"
          },
          "metadata": {}
        }
      ]
    },
    {
      "cell_type": "code",
      "source": [
        "# distribution of actual labels in test_set:\n",
        "y_test.value_counts()"
      ],
      "metadata": {
        "colab": {
          "base_uri": "https://localhost:8080/"
        },
        "id": "dMh8RW90UuAG",
        "outputId": "f5e985a1-2bbb-46f2-b5cd-1d9d28809469"
      },
      "execution_count": null,
      "outputs": [
        {
          "output_type": "execute_result",
          "data": {
            "text/plain": [
              "label\n",
              "tree      241\n",
              "rock      219\n",
              "hiker     134\n",
              "animal     66\n",
              "Name: count, dtype: int64"
            ]
          },
          "metadata": {},
          "execution_count": 26
        }
      ]
    },
    {
      "cell_type": "markdown",
      "source": [
        "💡 **Insight**\n",
        "+ _imbalanced_ datasets are those whose feaures or labels are represented by _disproportional_ number of samples\n",
        "+ Compared to the distribution of actual labels in the `y_test` dataset, the model seems to perform better on predicting `rocks` and `trees`, but gets confused when predicting `hikers` and `animals`\n",
        "+ However, due to the dominance of `rocks` and `trees` in the dataset, and minority representation of `hikers` and `animals`, the model's `accuracy_score` remains high."
      ],
      "metadata": {
        "id": "twU3tUrjP031"
      }
    },
    {
      "cell_type": "markdown",
      "source": [
        "## Conclusion\n",
        "+ `accuracy_score` as a metric for evaluating classification models has its shortcomings and should not be used in isolation\n",
        "+ `confusion_matrix` gives a better visual representation of a classification model's performance"
      ],
      "metadata": {
        "id": "QLm-SOCwPNem"
      }
    }
  ]
}