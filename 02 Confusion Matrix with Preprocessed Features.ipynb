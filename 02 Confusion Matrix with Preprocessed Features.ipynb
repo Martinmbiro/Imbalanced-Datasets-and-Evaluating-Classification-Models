{
  "cells": [
    {
      "cell_type": "markdown",
      "metadata": {
        "id": "qCBbXgCpPAGP"
      },
      "source": [
        "# **Data Pre-processing**\n",
        "> In this notebook, I'll inculde all the features in training the model.  \n",
        "\n",
        "> The data will be pre-processed to see if the confusion matrix indicates better model performance"
      ]
    },
    {
      "cell_type": "markdown",
      "metadata": {
        "id": "1owzVC3ZHmDk"
      },
      "source": [
        "## Load the data"
      ]
    },
    {
      "cell_type": "code",
      "execution_count": null,
      "metadata": {
        "id": "mK5kmxEaOmK9",
        "collapsed": true
      },
      "outputs": [],
      "source": [
        "import pandas as pd\n",
        "!wget https://raw.githubusercontent.com/MicrosoftDocs/mslearn-introduction-to-machine-learning/main/Data/snow_objects.csv\n",
        "\n",
        "dataset = pd.read_csv('snow_objects.csv', delimiter='\\t')"
      ]
    },
    {
      "cell_type": "code",
      "execution_count": null,
      "metadata": {
        "colab": {
          "base_uri": "https://localhost:8080/"
        },
        "id": "97zdyA-tHzPL",
        "outputId": "3e5ce54e-479f-46e2-ee1a-c3c9f06e083f"
      },
      "outputs": [
        {
          "output_type": "stream",
          "name": "stdout",
          "text": [
            "<class 'pandas.core.frame.DataFrame'>\n",
            "RangeIndex: 2200 entries, 0 to 2199\n",
            "Data columns (total 5 columns):\n",
            " #   Column     Non-Null Count  Dtype  \n",
            "---  ------     --------------  -----  \n",
            " 0   size       2200 non-null   float64\n",
            " 1   roughness  2200 non-null   float64\n",
            " 2   color      2200 non-null   object \n",
            " 3   motion     2200 non-null   float64\n",
            " 4   label      2200 non-null   object \n",
            "dtypes: float64(3), object(2)\n",
            "memory usage: 86.1+ KB\n"
          ]
        }
      ],
      "source": [
        "# dataset info\n",
        "dataset.info()"
      ]
    },
    {
      "cell_type": "code",
      "execution_count": null,
      "metadata": {
        "id": "jg-DfrCCIYrI"
      },
      "outputs": [],
      "source": [
        "# the color column is a categorical, hence:\n",
        "dataset['color'] = dataset['color'].astype('category')"
      ]
    },
    {
      "cell_type": "code",
      "execution_count": null,
      "metadata": {
        "id": "m6oSyDfwH3SF"
      },
      "outputs": [],
      "source": [
        "# divide dataset into features and target\n",
        "\n",
        "# features\n",
        "X = dataset[['size', 'roughness', 'color', 'motion']].copy()\n",
        "\n",
        "# target\n",
        "y = dataset['label']\n",
        "\n",
        "# the indices of the numeric and categorical features in the dataframe:\n",
        "numerical_features = [0, 1, 3]\n",
        "categorical_features = [2]"
      ]
    },
    {
      "cell_type": "code",
      "source": [
        "# split data into train and test sets\n",
        "from sklearn.model_selection import train_test_split\n",
        "\n",
        "X_train, X_test, y_train, y_test = train_test_split(X, y,\n",
        "                                                    test_size=0.3, random_state=42)"
      ],
      "metadata": {
        "id": "zRv2AcQhPkBr"
      },
      "execution_count": null,
      "outputs": []
    },
    {
      "cell_type": "markdown",
      "source": [
        "## Preprocessing\n",
        "> To preprocess the features, a [`ColumnTransformer`](https://scikit-learn.org/stable/modules/generated/sklearn.compose.ColumnTransformer.html) will be used to wrap _transformers_ in form of [`Pipeline`](https://scikit-learn.org/stable/modules/generated/sklearn.pipeline.Pipeline.html#sklearn.pipeline.Pipeline)"
      ],
      "metadata": {
        "id": "z3VYJtxwUob4"
      }
    },
    {
      "cell_type": "code",
      "source": [
        "# import\n",
        "from sklearn.pipeline import Pipeline\n",
        "from sklearn.impute import SimpleImputer\n",
        "from sklearn.compose import ColumnTransformer\n",
        "from sklearn.preprocessing import OneHotEncoder\n",
        "from sklearn.preprocessing import StandardScaler"
      ],
      "metadata": {
        "id": "VmAV-G4nI2vU"
      },
      "execution_count": null,
      "outputs": []
    },
    {
      "cell_type": "code",
      "source": [
        "# scale numeric features\n",
        "num_transformer = Pipeline(steps=[\n",
        "    # (name of step, transform)\n",
        "    ('impute', SimpleImputer(strategy='median')), #handle missing values\n",
        "    ('scale', StandardScaler()) # scale\n",
        "])\n",
        "\n",
        "# encode categorical features\n",
        "cat_transformer = Pipeline(steps=[\n",
        "    # (name of step, transform)\n",
        "    ('impute', SimpleImputer(strategy='most_frequent')), # handle missing values\n",
        "    ('encode', OneHotEncoder(handle_unknown='ignore')) # encode\n",
        "])\n",
        "\n",
        "# wrap both transformers in a ColumnTransformer object\n",
        "preprocessor = ColumnTransformer(transformers=[\n",
        "    # (name, transformer, columns)\n",
        "    ('num', num_transformer, numerical_features), # numerical\n",
        "    ('cat', cat_transformer, categorical_features) # categorical\n",
        "])"
      ],
      "metadata": {
        "id": "5FzKWFr0IN0c"
      },
      "execution_count": null,
      "outputs": []
    },
    {
      "cell_type": "markdown",
      "source": [
        "## Building a classification model\n",
        "> Since we'd already done exloratory data analysis in the previous notebook, we'll jump right into building a [`RandomForestClassifier`](https://scikit-learn.org/stable/modules/generated/sklearn.ensemble.RandomForestClassifier.html) to predict the class that an object belongs to"
      ],
      "metadata": {
        "id": "jo6c18hCRkRM"
      }
    },
    {
      "cell_type": "code",
      "source": [
        "%%time\n",
        "# import RandomForestClassfier\n",
        "from sklearn.ensemble import RandomForestClassifier\n",
        "\n",
        "# pipeline with preprocessor and default estimator parameters\n",
        "forest_pipeline = Pipeline(steps=[\n",
        "    ('preprocess', preprocessor), # preprocess\n",
        "    ('rfc', RandomForestClassifier(n_estimators=100, random_state=42)) # estimator\n",
        "])\n",
        "\n",
        "# train the model\n",
        "forest_pipeline.fit(X_train, y_train)\n",
        "print('')"
      ],
      "metadata": {
        "colab": {
          "base_uri": "https://localhost:8080/"
        },
        "id": "iLyCjlWFSDY_",
        "outputId": "c02bd287-8b98-4ee1-c56b-618706fff0ae"
      },
      "execution_count": null,
      "outputs": [
        {
          "output_type": "stream",
          "name": "stdout",
          "text": [
            "\n",
            "CPU times: user 304 ms, sys: 12.6 ms, total: 317 ms\n",
            "Wall time: 436 ms\n"
          ]
        }
      ]
    },
    {
      "cell_type": "markdown",
      "source": [
        "## Let's build a confusion matrix\n",
        "> Time to build a [`confusion_matrix`](https://scikit-learn.org/stable/modules/generated/sklearn.metrics.confusion_matrix.html#confusion-matrix) like such:\n",
        "+ `sklearn.metrics.confusion_matrix(y_true, y_pred)`"
      ],
      "metadata": {
        "id": "i4GSY3SQI66c"
      }
    },
    {
      "cell_type": "code",
      "source": [
        "from sklearn.metrics import confusion_matrix\n",
        "\n",
        "# get predictions\n",
        "y_pred = forest_pipeline.predict(X_test)\n",
        "\n",
        "# get and print the confusion matrix\n",
        "matrix = confusion_matrix(y_test, y_pred)\n",
        "print(matrix)"
      ],
      "metadata": {
        "colab": {
          "base_uri": "https://localhost:8080/"
        },
        "id": "xeu_A20kKWEr",
        "outputId": "2bb90d3d-3c5e-465d-ec5f-d7f74551a80e"
      },
      "execution_count": null,
      "outputs": [
        {
          "output_type": "stream",
          "name": "stdout",
          "text": [
            "[[ 39  24   1   0]\n",
            " [ 13 106   4   0]\n",
            " [  0   0 222   0]\n",
            " [  1   1   0 249]]\n"
          ]
        }
      ]
    },
    {
      "cell_type": "markdown",
      "source": [
        "#### Visualizing the `confusion_matrix` using [`ConfusionMatrixDisplay`](https://scikit-learn.org/stable/modules/generated/sklearn.metrics.ConfusionMatrixDisplay.html)\n",
        "\n",
        "> The `confusion_matrix` would be more perceptive if visually presented  \n",
        "\n",
        "> Luckily, the [`ConfusionMatrixDisplay`](https://scikit-learn.org/stable/modules/generated/sklearn.metrics.ConfusionMatrixDisplay.html) class has a _classmethod_ [`from_predictions()`](https://scikit-learn.org/stable/modules/generated/sklearn.metrics.ConfusionMatrixDisplay.html) that can plot the confusion matrix given the `y_true` and `y_pred` labels"
      ],
      "metadata": {
        "id": "kZMmMuALL5fN"
      }
    },
    {
      "cell_type": "code",
      "source": [
        "# import\n",
        "from sklearn.metrics import ConfusionMatrixDisplay\n",
        "import matplotlib.pyplot as plt"
      ],
      "metadata": {
        "id": "EKp8St9eOdYG"
      },
      "execution_count": null,
      "outputs": []
    },
    {
      "cell_type": "code",
      "source": [
        "# specify subplot and figure\n",
        "fig, ax = plt.subplots(figsize=(3.5, 3.5))\n",
        "\n",
        "# ConfusionMatrixDisplay\n",
        "ConfusionMatrixDisplay.from_predictions(y_test, y_pred,\n",
        "                                        cmap='Blues',\n",
        "                                        colorbar=False,\n",
        "                                        ax = ax)\n",
        "\n",
        "# modify label appearance\n",
        "ax.set_xlabel('Predicted Labels', weight='black', color='#E52B50')\n",
        "ax.set_ylabel('True Labels', weight='black', color='#003262')\n",
        "\n",
        "# move the xaxis ticks and label to top of plot\n",
        "ax.xaxis.tick_top()\n",
        "ax.xaxis.set_label_position('top')\n",
        "\n",
        "plt.show()"
      ],
      "metadata": {
        "colab": {
          "base_uri": "https://localhost:8080/",
          "height": 346
        },
        "id": "FGVe_NDNL_gp",
        "outputId": "62697423-9fec-4cdd-8b92-e8c32f7e8312"
      },
      "execution_count": null,
      "outputs": [
        {
          "output_type": "display_data",
          "data": {
            "text/plain": [
              "<Figure size 350x350 with 1 Axes>"
            ],
            "image/png": "[encoded data removed]"
          },
          "metadata": {}
        }
      ]
    },
    {
      "cell_type": "code",
      "source": [
        "# distribution of actual labels in test_set:\n",
        "y_test.value_counts()"
      ],
      "metadata": {
        "colab": {
          "base_uri": "https://localhost:8080/"
        },
        "id": "rhzeLWulUOJo",
        "outputId": "5e80108a-f41e-4cf1-e846-3a5b94843bdc"
      },
      "execution_count": null,
      "outputs": [
        {
          "output_type": "execute_result",
          "data": {
            "text/plain": [
              "label\n",
              "tree      251\n",
              "rock      222\n",
              "hiker     123\n",
              "animal     64\n",
              "Name: count, dtype: int64"
            ]
          },
          "metadata": {},
          "execution_count": 12
        }
      ]
    },
    {
      "cell_type": "markdown",
      "source": [
        "# **Evaluation**\n",
        "> A `confusion_matrix` displays the number of `TP`, `TN` `FP` & `FN` from which other evaluations metrics can be derived.\n",
        "+ `TP` - True Positives: a positive label is correctly predicted\n",
        "+ `TN` - True Negatives: a negative label is correctly predicted\n",
        "+ `FP` - False Positives: a negative label is predicted as a positive\n",
        "+ `FN` - False Negatives: a positive label is predicted as a negative\n"
      ],
      "metadata": {
        "id": "JFeqDFktvU-Y"
      }
    },
    {
      "cell_type": "markdown",
      "source": [
        "### Evaluation Metrics\n",
        "> From the numbers listed above, the following evaluation metrics can be derived"
      ],
      "metadata": {
        "id": "KEW3fhlK08IQ"
      }
    },
    {
      "cell_type": "markdown",
      "source": [
        "#### **Accuracy**\n",
        "> Accuracy is the number of correct predictions (both `TP` & `TN`) divided by the total number of predictions:\n",
        "\n",
        "```\n",
        "    accuracy = (TP+TN) / number of samples\n",
        "```"
      ],
      "metadata": {
        "id": "D59vbN8nF-Xr"
      }
    },
    {
      "cell_type": "markdown",
      "source": [
        "#### **Recall / sensitivity / True Positive Rate**\n",
        "> The measure of the proportion of `TP` out of the actual positives\n",
        "+ Out of _all_ the instances of a particular class in a dataset, how many did the model correctly identify?\n",
        "\n",
        "```\n",
        "    recall = sensitivity = TP / (TP + FN)\n",
        "```"
      ],
      "metadata": {
        "id": "DUkjBUpkGLwC"
      }
    },
    {
      "cell_type": "markdown",
      "source": [
        "#### **Precision**\n",
        "> The measure of proportion of `TP` out of the predicted positives\n",
        "+ Out of all positive predictions made for a particular class, how many were _truly positive_ labels?  \n",
        "\n",
        "```\n",
        "    precision = TP / (TP + FP)\n",
        "```"
      ],
      "metadata": {
        "id": "XVWWOYAGHZ_-"
      }
    },
    {
      "cell_type": "markdown",
      "source": [
        "#### **F1 score**\n",
        "> The harmonic mean of `recall` and `precision`\n",
        "\n",
        "```\n",
        "    2 * [ (precision*recall) / (precision+recall) ]\n",
        "```"
      ],
      "metadata": {
        "id": "HS1-UwMhJ1Vi"
      }
    },
    {
      "cell_type": "markdown",
      "source": [
        "#### **Specificity / True Negative Rate**\n",
        "> Expresses the fraction of `TN` predicted over the total number of existing negative samples\n",
        "+ Proportion of `TN` (actual negatives) that were correcly identified over the total number of existing negative samples\n",
        "\n",
        "```\n",
        "    specificity = TN / (FP + TN)\n",
        "```"
      ],
      "metadata": {
        "id": "0wwQifsYL-xt"
      }
    },
    {
      "cell_type": "markdown",
      "source": [
        "#### **False Positive Rate / False Alarm Rate**\n",
        "> The number of `FP` predictions divided by the total number of negative samples:\n",
        "+ Out of all the actual negatives, how many were misclassified as positives?\n",
        "\n",
        "```\n",
        "    fpr = FP / (FP + TN)\n",
        "```"
      ],
      "metadata": {
        "id": "HowR_-jhNBg2"
      }
    },
    {
      "cell_type": "markdown",
      "source": [
        "#### **Support**\n",
        "> Number of actual occurrrences of each class in the true labels of the dataset"
      ],
      "metadata": {
        "id": "xsOqsS0iQAgr"
      }
    },
    {
      "cell_type": "markdown",
      "source": [
        "> 📝 **Note**  \n",
        "> For what it's worth:\n",
        "+ `FPR + spacificity = 1`\n",
        "+ `sensitivity` and `spacificity` are inversely proportional\n",
        "+ `TPR` and `FPR` are directly proportional"
      ],
      "metadata": {
        "id": "7huKfyXyen60"
      }
    },
    {
      "cell_type": "markdown",
      "source": [
        "### [`accuracy_score`](https://scikit-learn.org/stable/modules/generated/sklearn.metrics.accuracy_score.html)"
      ],
      "metadata": {
        "id": "DUYWQvyMOZDS"
      }
    },
    {
      "cell_type": "code",
      "source": [
        "# accuracy score\n",
        "from sklearn.metrics import accuracy_score\n",
        "\n",
        "acc = accuracy_score(y_test, y_pred)\n",
        "print(f'Accuracy: {round(acc, 2)}')"
      ],
      "metadata": {
        "colab": {
          "base_uri": "https://localhost:8080/"
        },
        "id": "4t2PzjRCOyXd",
        "outputId": "2f2ee55d-2b21-41a4-a1ec-49abed657c74"
      },
      "execution_count": null,
      "outputs": [
        {
          "output_type": "stream",
          "name": "stdout",
          "text": [
            "Accuracy: 0.93\n"
          ]
        }
      ]
    },
    {
      "cell_type": "markdown",
      "source": [
        "### [`sklearn.metrics.classification_report()`](https://scikit-learn.org/stable/modules/generated/sklearn.metrics.classification_report.html)\n",
        "> Returns a summary of the `precision`, `recall`, `F1` score for each class, as well as averages  \n",
        "\n",
        "> **Method call**\n",
        "```\n",
        "classification_report(y_true, y_pred, *, labels=None, target_names=None,\n",
        "sample_weight=None, digits=2, output_dict=False, zero_division='warn')\n",
        "```"
      ],
      "metadata": {
        "id": "Y1HyH8goHOCM"
      }
    },
    {
      "cell_type": "code",
      "source": [
        "# metrics using sklearn\n",
        "from sklearn.metrics import classification_report\n",
        "\n",
        "cr = classification_report(y_test, y_pred)\n",
        "print(cr)"
      ],
      "metadata": {
        "colab": {
          "base_uri": "https://localhost:8080/"
        },
        "id": "j9Ltb85eKE5_",
        "outputId": "952331b2-68db-4cbf-c107-0ecb224d6603"
      },
      "execution_count": null,
      "outputs": [
        {
          "output_type": "stream",
          "name": "stdout",
          "text": [
            "              precision    recall  f1-score   support\n",
            "\n",
            "      animal       0.74      0.61      0.67        64\n",
            "       hiker       0.81      0.86      0.83       123\n",
            "        rock       0.98      1.00      0.99       222\n",
            "        tree       1.00      0.99      1.00       251\n",
            "\n",
            "    accuracy                           0.93       660\n",
            "   macro avg       0.88      0.87      0.87       660\n",
            "weighted avg       0.93      0.93      0.93       660\n",
            "\n"
          ]
        }
      ]
    },
    {
      "cell_type": "markdown",
      "source": [
        "### [`imblearn.metrics.classification_report_imbalanced()`](https://imbalanced-learn.org/stable/references/generated/imblearn.metrics.classification_report_imbalanced.html)\n",
        "> Returns summary of the `precision`, `recall`, `specificity`, `geometric mean`, and `index balanced accuracy`  \n",
        "\n",
        "> **Method call**\n",
        "```\n",
        "classification_report_imbalanced(y_true, y_pred, *, labels=None,\n",
        "target_names=None, sample_weight=None, digits=2, alpha=0.1, output_dict=False,\n",
        "zero_division='warn')\n",
        "```"
      ],
      "metadata": {
        "id": "891LbC8HHW5N"
      }
    },
    {
      "cell_type": "code",
      "source": [
        "# metrics using imblearn\n",
        "from imblearn.metrics import classification_report_imbalanced\n",
        "\n",
        "cri = classification_report_imbalanced(y_test, y_pred)\n",
        "print(cri)"
      ],
      "metadata": {
        "colab": {
          "base_uri": "https://localhost:8080/"
        },
        "id": "qnyDs90bKHS0",
        "outputId": "25845c92-c1fd-479e-eb1e-c14d19dafb27"
      },
      "execution_count": null,
      "outputs": [
        {
          "output_type": "stream",
          "name": "stdout",
          "text": [
            "                   pre       rec       spe        f1       geo       iba       sup\n",
            "\n",
            "     animal       0.74      0.61      0.98      0.67      0.77      0.57        64\n",
            "      hiker       0.81      0.86      0.95      0.83      0.91      0.81       123\n",
            "       rock       0.98      1.00      0.99      0.99      0.99      0.99       222\n",
            "       tree       1.00      0.99      1.00      1.00      1.00      0.99       251\n",
            "\n",
            "avg / total       0.93      0.93      0.99      0.93      0.96      0.92       660\n",
            "\n"
          ]
        }
      ]
    },
    {
      "cell_type": "markdown",
      "source": [
        "# **Conclusion**\n",
        "> In this notebook, I've implemented the following:\n",
        "> + Included the `color` column in the training set, to give a true representation of the dataset  \n",
        "> + Pre-processed the features (scaling numerical features & encoding categorical columns)\n",
        "> + Increased the `n_iterators` of the `RandomForestClassifier` from `1` to `100`\n",
        "\n",
        "> Despite all that, the `confusion_matrix` illustrates the model still performs dismally on `animal` and `hiker` classes 💔\n",
        "\n"
      ],
      "metadata": {
        "id": "gmEVTWiJJQD9"
      }
    },
    {
      "cell_type": "markdown",
      "source": [
        "> 💡 **Insight**  \n",
        "> + The model performs poorly on the `animal` and `hiker` classes, since they are poorly represented in the dataset"
      ],
      "metadata": {
        "id": "ZAcKeE0jJwcf"
      }
    },
    {
      "cell_type": "markdown",
      "source": [
        "> ▶️ **Up Next**  \n",
        "+ We'll be _resampling_ the training data so that the model has enough to train on all label classes, and see how that goes."
      ],
      "metadata": {
        "id": "zCQbJCs5KzH9"
      }
    }
  ],
  "metadata": {
    "colab": {
      "provenance": [],
      "toc_visible": true
    },
    "kernelspec": {
      "display_name": "Python 3",
      "name": "python3"
    },
    "language_info": {
      "name": "python"
    }
  },
  "nbformat": 4,
  "nbformat_minor": 0
}