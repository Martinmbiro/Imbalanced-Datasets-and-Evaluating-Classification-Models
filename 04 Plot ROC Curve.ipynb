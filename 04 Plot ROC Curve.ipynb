{
  "nbformat": 4,
  "nbformat_minor": 0,
  "metadata": {
    "colab": {
      "provenance": [],
      "toc_visible": true,
      "authorship_tag": "ABX9TyNprbk3xSTHhRo1DzXErmc3",
      "include_colab_link": true
    },
    "kernelspec": {
      "name": "python3",
      "display_name": "Python 3"
    },
    "language_info": {
      "name": "python"
    }
  },
  "cells": [
    {
      "cell_type": "markdown",
      "metadata": {
        "id": "view-in-github",
        "colab_type": "text"
      },
      "source": [
        "<a href=\"https://colab.research.google.com/github/Martinmbiro/Imbalanced-Datasets-and-Evaluating-Classification-Models/blob/main/04%20Plot%20ROC%20Curve.ipynb\" target=\"_parent\"><img src=\"https://colab.research.google.com/assets/colab-badge.svg\" alt=\"Open In Colab\"/></a>"
      ]
    },
    {
      "cell_type": "markdown",
      "source": [
        "# **ROC Curves**\n",
        "> A graph that shows how well a classification model performs (usually a binary classification problem, although can be adapted for multi-label classification problems)\n",
        "\n",
        "+ Plots the True Positive Rate `tpr` (y axis) against the False Positive Rate `fpr` (x axis) at various `threshold` values."
      ],
      "metadata": {
        "id": "appVYbpyd-E2"
      }
    },
    {
      "cell_type": "markdown",
      "source": [
        "> 💡 **Insight**\n",
        "+ In the real world, we typically achieve models that perform somewhere between between pure chance (a diagonal line) and perfectly (a line that touches the top left corner)"
      ],
      "metadata": {
        "id": "2UERr3QXj17G"
      }
    },
    {
      "cell_type": "markdown",
      "source": [
        "> ❗ **Recall**  \n",
        "+ `tpr / sensitivity` - How often `true` labels are correctly identified as `true`\n",
        "+ `fpr / false alarm rate` - How often `false` labels are incorrectly identified as `true`"
      ],
      "metadata": {
        "id": "t6mocZJgepvz"
      }
    },
    {
      "cell_type": "markdown",
      "source": [
        "## Loading the data\n",
        "> 📝 **Note**\n",
        "+ This notebook will be scaled down to a _binary_ classification problem, since `roc` curves are ideally meant for binary classification.\n",
        "+ This is not to say however, that they cannot be used as evaluation metrics for multi-label classification problems. They can be scaled to fit the same\n",
        "+ The model trained for this notebook should estimate whether an object detected by lightweight sensors is a `hiker` or a `natural object`"
      ],
      "metadata": {
        "id": "pS4NmSKIf_78"
      }
    },
    {
      "cell_type": "code",
      "execution_count": null,
      "metadata": {
        "id": "5bDqDlpWdpwJ"
      },
      "outputs": [],
      "source": [
        "import pandas as pd\n",
        "\n",
        "!wget https://raw.githubusercontent.com/MicrosoftDocs/mslearn-introduction-to-machine-learning/main/Data/hiker_or_tree.csv\n",
        "\n",
        "dataset  = pd.read_csv('hiker_or_tree.csv', delimiter='\\t')"
      ]
    },
    {
      "cell_type": "code",
      "source": [
        "# dataset info\n",
        "dataset.info()"
      ],
      "metadata": {
        "colab": {
          "base_uri": "https://localhost:8080/"
        },
        "id": "xoY-zw_gjLVv",
        "outputId": "9336eb0d-a566-47a6-ba5a-e79741fd65f7"
      },
      "execution_count": null,
      "outputs": [
        {
          "output_type": "stream",
          "name": "stdout",
          "text": [
            "<class 'pandas.core.frame.DataFrame'>\n",
            "RangeIndex: 1000 entries, 0 to 999\n",
            "Data columns (total 4 columns):\n",
            " #   Column    Non-Null Count  Dtype  \n",
            "---  ------    --------------  -----  \n",
            " 0   height    1000 non-null   float64\n",
            " 1   is_hiker  1000 non-null   int64  \n",
            " 2   motion    1000 non-null   float64\n",
            " 3   texture   1000 non-null   float64\n",
            "dtypes: float64(3), int64(1)\n",
            "memory usage: 31.4 KB\n"
          ]
        }
      ]
    },
    {
      "cell_type": "code",
      "source": [
        "# split dataset into label and features\n",
        "# features\n",
        "features = ['height', 'motion', 'texture']\n",
        "X = dataset[features]\n",
        "\n",
        "# label\n",
        "y = dataset['is_hiker']"
      ],
      "metadata": {
        "id": "IQ8yuvkpih95"
      },
      "execution_count": null,
      "outputs": []
    },
    {
      "cell_type": "code",
      "source": [
        "# then split into training and validation sets\n",
        "from sklearn.model_selection import train_test_split\n",
        "\n",
        "X_train, X_test, y_train, y_test = train_test_split(X, y,\n",
        "                                                test_size=0.3, random_state=42)\n",
        "\n",
        "# X_train info\n",
        "X_train.info()"
      ],
      "metadata": {
        "colab": {
          "base_uri": "https://localhost:8080/"
        },
        "id": "Y99qyMcJi7IC",
        "outputId": "e54c5e22-2a52-415e-fe07-82f289b3bc38"
      },
      "execution_count": null,
      "outputs": [
        {
          "output_type": "stream",
          "name": "stdout",
          "text": [
            "<class 'pandas.core.frame.DataFrame'>\n",
            "Index: 700 entries, 541 to 102\n",
            "Data columns (total 3 columns):\n",
            " #   Column   Non-Null Count  Dtype  \n",
            "---  ------   --------------  -----  \n",
            " 0   height   700 non-null    float64\n",
            " 1   motion   700 non-null    float64\n",
            " 2   texture  700 non-null    float64\n",
            "dtypes: float64(3)\n",
            "memory usage: 21.9 KB\n"
          ]
        }
      ]
    },
    {
      "cell_type": "markdown",
      "source": [
        "## Data analysis"
      ],
      "metadata": {
        "id": "C_cfZqVInOct"
      }
    },
    {
      "cell_type": "markdown",
      "source": [
        "### Plotting feature distribution\n",
        "> A [`histogram`](https://matplotlib.org/stable/api/_as_gen/matplotlib.pyplot.hist.html) will be used to visualize the distribution of the `height`, `motion` and `texture` columns"
      ],
      "metadata": {
        "id": "FTrCN8RGqb05"
      }
    },
    {
      "cell_type": "code",
      "source": [
        "# import matplotlilb\n",
        "import matplotlib.pyplot as plt\n",
        "# specify style sheet\n",
        "plt.style.use('fast')"
      ],
      "metadata": {
        "id": "IZ15YlXSeoyK"
      },
      "execution_count": null,
      "outputs": []
    },
    {
      "cell_type": "code",
      "source": [
        "# colour list\n",
        "color_list = ['#e7bc91', '#bc8a5f', '#8b5e34']\n",
        "\n",
        "# define feature and Axes\n",
        "fig, axs = plt.subplots(1, 3, figsize=(10, 3), sharey=True)\n",
        "\n",
        "# for loop to plot all histograms\n",
        "for i, feature in enumerate(features):\n",
        "  dataset.plot.hist(column=feature, xlabel=feature.capitalize(),\n",
        "                  ax=axs[i], color=color_list[i], legend=False)\n",
        "\n",
        "# suptitle\n",
        "plt.suptitle('Feature Distribution', weight='black', fontsize=10.5)\n",
        "plt.show()"
      ],
      "metadata": {
        "colab": {
          "base_uri": "https://localhost:8080/",
          "height": 341
        },
        "id": "QccgGcF_oJ05",
        "outputId": "3e68e2aa-e218-4cd2-ef4d-7c7663348a10"
      },
      "execution_count": null,
      "outputs": [
        {
          "output_type": "display_data",
          "data": {
            "text/plain": [
              "<Figure size 1000x300 with 3 Axes>"
            ],
            "image/png": "[encoded data removed]"
          },
          "metadata": {}
        }
      ]
    },
    {
      "cell_type": "markdown",
      "source": [
        "### Relationship between the features and label\n",
        "> To visualize the relationship between the features `height`, `motion` and `texture` hand the categorical label, `is_hiker`"
      ],
      "metadata": {
        "id": "Ng1MfBVFqkgr"
      }
    },
    {
      "cell_type": "code",
      "source": [
        "# specify figure and Axes\n",
        "fig, axs = plt.subplots(1, 3, figsize=(10, 3), sharey=True)\n",
        "\n",
        "for i, feature in enumerate(features):\n",
        "  dataset.plot.box(column=feature, by='is_hiker', xlabel=feature.capitalize(),\n",
        "                  flierprops=dict(marker='.', markeredgecolor='#ef2336'),\n",
        "                  ax = axs[i])\n",
        "\n",
        "  # blank title\n",
        "  axs[i].set_title('')\n",
        "  # grid\n",
        "  axs[i].grid(axis='y', alpha=0.7, color='#dad7cd')\n",
        "\n",
        "# subplot y_label:\n",
        "axs[0].set_ylabel('Distribution')\n",
        "\n",
        "plt.suptitle('Relationship between features and label', weight='black',\n",
        "             fontsize=10.5)\n",
        "plt.show()"
      ],
      "metadata": {
        "colab": {
          "base_uri": "https://localhost:8080/",
          "height": 341
        },
        "id": "af_FaUrtfCoF",
        "outputId": "af15dd83-509c-4c58-ab89-f77d6a9f96f3"
      },
      "execution_count": null,
      "outputs": [
        {
          "output_type": "display_data",
          "data": {
            "text/plain": [
              "<Figure size 1000x300 with 3 Axes>"
            ],
            "image/png": "[encoded data removed]"
          },
          "metadata": {}
        }
      ]
    },
    {
      "cell_type": "markdown",
      "source": [
        "> Clearly, there seems to be a relationship between the features and the label, particularly the `height` and `motion` columns."
      ],
      "metadata": {
        "id": "ufVRHkVPneOY"
      }
    },
    {
      "cell_type": "markdown",
      "source": [
        "### Label distribution"
      ],
      "metadata": {
        "id": "jIEZhDVHkEZw"
      }
    },
    {
      "cell_type": "code",
      "source": [
        "# label class count\n",
        "dataset['is_hiker'].value_counts().sort_values(ascending=True)"
      ],
      "metadata": {
        "colab": {
          "base_uri": "https://localhost:8080/",
          "height": 178
        },
        "id": "hHv7EgZCkDDb",
        "outputId": "f53c7ce1-a6ba-4f40-e82d-4b2c5bd28334"
      },
      "execution_count": null,
      "outputs": [
        {
          "output_type": "execute_result",
          "data": {
            "text/plain": [
              "is_hiker\n",
              "1    500\n",
              "0    500\n",
              "Name: count, dtype: int64"
            ],
            "text/html": [
              "<table border=\"1\" class=\"dataframe\">\n",
              "  <thead>\n",
              "    <tr style=\"text-align: right;\">\n",
              "      <th></th>\n",
              "      <th>count</th>\n",
              "    </tr>\n",
              "    <tr>\n",
              "      <th>is_hiker</th>\n",
              "      <th></th>\n",
              "    </tr>\n",
              "  </thead>\n",
              "  <tbody>\n",
              "    <tr>\n",
              "      <th>1</th>\n",
              "      <td>500</td>\n",
              "    </tr>\n",
              "    <tr>\n",
              "      <th>0</th>\n",
              "      <td>500</td>\n",
              "    </tr>\n",
              "  </tbody>\n",
              "</table><br><label><b>dtype:</b> int64</label>"
            ]
          },
          "metadata": {},
          "execution_count": 8
        }
      ]
    },
    {
      "cell_type": "code",
      "source": [
        "# visualize in a bar plot\n",
        "dataset['is_hiker'].value_counts().sort_index(ascending=True).plot.bar(\n",
        "    figsize=(3, 3),\n",
        "    color=['#aec3b0', '#598392'],\n",
        "    rot=0,\n",
        "    ylabel='Count'\n",
        ")\n",
        "\n",
        "plt.title('Label Class Distribution', fontsize=10.5)\n",
        "plt.xlabel('Label', weight='black')\n",
        "# get_current_axes and modify xticklabels\n",
        "plt.gca().set_xticklabels([0, 1], weight='black')\n",
        "plt.show()\n"
      ],
      "metadata": {
        "colab": {
          "base_uri": "https://localhost:8080/",
          "height": 331
        },
        "id": "m5ieIcI9kYC5",
        "outputId": "de1e1497-0442-43f5-c746-f5233d8e6f13"
      },
      "execution_count": null,
      "outputs": [
        {
          "output_type": "display_data",
          "data": {
            "text/plain": [
              "<Figure size 300x300 with 1 Axes>"
            ],
            "image/png": "[encoded data removed]"
          },
          "metadata": {}
        }
      ]
    },
    {
      "cell_type": "markdown",
      "source": [
        "> 💡 **Insight**  \n",
        "+ This dataset is balanced, hence, there is no need for oversampling"
      ],
      "metadata": {
        "id": "TjQ_BSrsduGe"
      }
    },
    {
      "cell_type": "markdown",
      "source": [
        "## Feature scaling\n",
        "> Since there are no categorical features in the dataset, I'll ony be _scaling_ the _numeric_ features.\n",
        "+ We would have _encoded categorical features_ if they were present in the dataset.\n",
        "+ A [`ColumnTransformer`](https://scikit-learn.org/stable/modules/generated/sklearn.compose.ColumnTransformer.html) will wrap the numeric column _transformer_ in form of a [`Pipeline`](https://scikit-learn.org/stable/modules/generated/sklearn.pipeline.Pipeline.html)"
      ],
      "metadata": {
        "id": "3YukO-29fRjM"
      }
    },
    {
      "cell_type": "code",
      "source": [
        "# first, the indices of the numeric features:\n",
        "numeric_features = [0, 1, 2]\n",
        "\n",
        "# import necessary classes\n",
        "from sklearn.pipeline import Pipeline\n",
        "from sklearn.compose import ColumnTransformer\n",
        "from sklearn.impute import SimpleImputer\n",
        "from sklearn.preprocessing import StandardScaler"
      ],
      "metadata": {
        "id": "zTQRXLMMgD2T"
      },
      "execution_count": null,
      "outputs": []
    },
    {
      "cell_type": "code",
      "source": [
        "# transformer\n",
        "num_transform = Pipeline(steps=[\n",
        "    # (step name, transformer)\n",
        "    ('impute', SimpleImputer(strategy='median')), # take care of null values\n",
        "    ('scale', StandardScaler()) # then scale the columns\n",
        "])\n",
        "\n",
        "preprocessor = ColumnTransformer(transformers=[\n",
        "    # (name, transformer, columns)\n",
        "    ('num', num_transform, numeric_features)\n",
        "])"
      ],
      "metadata": {
        "id": "TfN33pcihkK0"
      },
      "execution_count": null,
      "outputs": []
    },
    {
      "cell_type": "markdown",
      "source": [
        "## Modelling\n",
        "> To keep it simple, I'll train a [`RandomForestClassifier`](https://scikit-learn.org/stable/modules/generated/sklearn.ensemble.RandomForestClassifier.html) with its default values\n",
        "+ Hyperparameter tuning will be covered in a later repository and using a more powerful model"
      ],
      "metadata": {
        "id": "MZGQrP2OgWpj"
      }
    },
    {
      "cell_type": "code",
      "source": [
        "# pipeline with preprocessor + estimator\n",
        "from sklearn.ensemble import RandomForestClassifier\n",
        "# from sklearn.linear_model import LogisticRegression\n",
        "\n",
        "forest_model = Pipeline(steps=[\n",
        "    #(name, estimator/transformer)\n",
        "    ('preprocess', preprocessor), # preprocessor\n",
        "    ('rfc', RandomForestClassifier(n_estimators=1, random_state=42)) #estimator\n",
        "    #('log', LogisticRegression())\n",
        "])"
      ],
      "metadata": {
        "id": "4xhozmTagac2"
      },
      "execution_count": null,
      "outputs": []
    },
    {
      "cell_type": "code",
      "source": [
        "%%time\n",
        "# train the model\n",
        "forest_model.fit(X_train, y_train)\n",
        "\n",
        "# make predictions from the model\n",
        "y_pred = forest_model.predict(X_test)"
      ],
      "metadata": {
        "colab": {
          "base_uri": "https://localhost:8080/"
        },
        "id": "-KCOtpwOiUQD",
        "outputId": "76debe61-cf04-4bcf-f44e-a08c976170c8"
      },
      "execution_count": null,
      "outputs": [
        {
          "output_type": "stream",
          "name": "stdout",
          "text": [
            "CPU times: user 21.8 ms, sys: 1.04 ms, total: 22.9 ms\n",
            "Wall time: 68.3 ms\n"
          ]
        }
      ]
    },
    {
      "cell_type": "markdown",
      "source": [
        "## Evaluation\n",
        "> For evaluation, I'll use [`confusion_matrix`](https://scikit-learn.org/stable/modules/generated/sklearn.metrics.confusion_matrix.html), [`accuracy_score`](https://scikit-learn.org/stable/modules/generated/sklearn.metrics.accuracy_score.html) [`classification_report`](https://scikit-learn.org/stable/modules/generated/sklearn.metrics.classification_report.html), [`classification_report_imbalanced`](https://imbalanced-learn.org/stable/references/generated/imblearn.metrics.classification_report_imbalanced.html), [`roc_curve`](https://scikit-learn.org/stable/modules/generated/sklearn.metrics.roc_curve.html) and [`roc_auc_score`](https://scikit-learn.org/stable/modules/generated/sklearn.metrics.roc_auc_score.html#sklearn.metrics.roc_auc_score)"
      ],
      "metadata": {
        "id": "KUgrZUnqlLmx"
      }
    },
    {
      "cell_type": "code",
      "source": [
        "# import classes\n",
        "from sklearn.metrics import ConfusionMatrixDisplay\n",
        "from sklearn.metrics import RocCurveDisplay\n",
        "from sklearn.metrics import classification_report\n",
        "from imblearn.metrics import classification_report_imbalanced\n",
        "from sklearn.metrics import roc_curve\n",
        "from sklearn.metrics import roc_auc_score\n",
        "from sklearn.metrics import accuracy_score"
      ],
      "metadata": {
        "id": "6DVsfzqpmgBM"
      },
      "execution_count": null,
      "outputs": []
    },
    {
      "cell_type": "markdown",
      "source": [
        "### `confusion_matrix`"
      ],
      "metadata": {
        "id": "d8kTj4n8mQ1B"
      }
    },
    {
      "cell_type": "code",
      "source": [
        "# specify figure and Axes\n",
        "fig, ax = plt.subplots(figsize=(3.2, 3.2))\n",
        "\n",
        "# confusion_matrix\n",
        "ConfusionMatrixDisplay.from_predictions(y_test, y_pred,\n",
        "                                        colorbar=False,\n",
        "                                        cmap='Blues',\n",
        "                                        ax=ax)\n",
        "\n",
        "# some impression management\n",
        "ax.set_ylabel('True Labels', weight='black', color='#003262')\n",
        "ax.set_xlabel('Predicted Labels', weight='black', color='#E52B50')\n",
        "\n",
        "# xlabel & xticks to the top\n",
        "ax.xaxis.tick_top()\n",
        "ax.xaxis.set_label_position('top')\n",
        "\n",
        "plt.show()"
      ],
      "metadata": {
        "colab": {
          "base_uri": "https://localhost:8080/",
          "height": 323
        },
        "id": "v-LMcbr2mOEo",
        "outputId": "5ae31ec9-2ad2-4ef8-871f-3e361d6e1586"
      },
      "execution_count": null,
      "outputs": [
        {
          "output_type": "display_data",
          "data": {
            "text/plain": [
              "<Figure size 320x320 with 1 Axes>"
            ],
            "image/png": "[encoded data removed]"
          },
          "metadata": {}
        }
      ]
    },
    {
      "cell_type": "markdown",
      "source": [
        "### [`accuracy_score`](https://scikit-learn.org/stable/modules/generated/sklearn.metrics.accuracy_score.html)"
      ],
      "metadata": {
        "id": "A5l8hO3PeaSb"
      }
    },
    {
      "cell_type": "code",
      "source": [
        "acc = accuracy_score(y_test, y_pred)\n",
        "print(f'Accuracy score: {round(acc, 2)}')"
      ],
      "metadata": {
        "colab": {
          "base_uri": "https://localhost:8080/"
        },
        "id": "uvluXkrZeBKS",
        "outputId": "9fb437f6-797f-4441-8c67-3b48634baf7f"
      },
      "execution_count": null,
      "outputs": [
        {
          "output_type": "stream",
          "name": "stdout",
          "text": [
            "Accuracy score: 1.0\n"
          ]
        }
      ]
    },
    {
      "cell_type": "markdown",
      "source": [
        "### [`sklearn.metrics.classification_report()`](https://scikit-learn.org/stable/modules/generated/sklearn.metrics.classification_report.html)"
      ],
      "metadata": {
        "id": "TyKGcJXFevvk"
      }
    },
    {
      "cell_type": "code",
      "source": [
        "print(classification_report(y_test, y_pred))"
      ],
      "metadata": {
        "colab": {
          "base_uri": "https://localhost:8080/"
        },
        "id": "UE6Vh8czexML",
        "outputId": "dbad2036-c7a8-43f0-a8cf-c8ac7d5617c8"
      },
      "execution_count": null,
      "outputs": [
        {
          "output_type": "stream",
          "name": "stdout",
          "text": [
            "              precision    recall  f1-score   support\n",
            "\n",
            "           0       1.00      1.00      1.00       150\n",
            "           1       1.00      1.00      1.00       150\n",
            "\n",
            "    accuracy                           1.00       300\n",
            "   macro avg       1.00      1.00      1.00       300\n",
            "weighted avg       1.00      1.00      1.00       300\n",
            "\n"
          ]
        }
      ]
    },
    {
      "cell_type": "markdown",
      "source": [
        "### [`imblearn.metrics.classification_report_imbalanced()`](https://imbalanced-learn.org/stable/references/generated/imblearn.metrics.classification_report_imbalanced.html)"
      ],
      "metadata": {
        "id": "nodoAh9De9Mn"
      }
    },
    {
      "cell_type": "code",
      "source": [
        "print(classification_report_imbalanced(y_test, y_pred))"
      ],
      "metadata": {
        "colab": {
          "base_uri": "https://localhost:8080/"
        },
        "id": "Geh8u-qEe-7X",
        "outputId": "398ed738-fea8-4a46-c14a-b85c6f568ad8"
      },
      "execution_count": null,
      "outputs": [
        {
          "output_type": "stream",
          "name": "stdout",
          "text": [
            "                   pre       rec       spe        f1       geo       iba       sup\n",
            "\n",
            "          0       1.00      1.00      1.00      1.00      1.00      1.00       150\n",
            "          1       1.00      1.00      1.00      1.00      1.00      1.00       150\n",
            "\n",
            "avg / total       1.00      1.00      1.00      1.00      1.00      1.00       300\n",
            "\n"
          ]
        }
      ]
    },
    {
      "cell_type": "markdown",
      "source": [
        "### Visualizing the `roc_curve` using [`RocCurveDisplay`](https://scikit-learn.org/stable/modules/generated/sklearn.metrics.RocCurveDisplay.html#roccurvedisplay)\n",
        "> Plotting an `roc_curve` can be a lengthy process, but can be easily done using `scikit-learn's` [`RocCurveDisplay`](https://scikit-learn.org/stable/modules/generated/sklearn.metrics.RocCurveDisplay.html#roccurvedisplay) class  \n",
        "\n",
        "> The `RocCurveDisplay` class has 2 _classmethods:_\n",
        "+ [`from_estimator()`](https://scikit-learn.org/stable/modules/generated/sklearn.metrics.RocCurveDisplay.html#sklearn.metrics.RocCurveDisplay.from_estimator) - Create an ROC Curve display from an estimator.  \n",
        "+ [`from_predictions()`](https://scikit-learn.org/stable/modules/generated/sklearn.metrics.RocCurveDisplay.html#sklearn.metrics.RocCurveDisplay.from_predictions) - Plot an ROC curve from the true and predicted labels"
      ],
      "metadata": {
        "id": "0YMrZYsAlP6x"
      }
    },
    {
      "cell_type": "code",
      "source": [
        "# specify figure and Axes\n",
        "fig, ax = plt.subplots(figsize=(4, 4))\n",
        "\n",
        "# plot the roc_curve\n",
        "RocCurveDisplay.from_estimator(forest_model, X_test, y_test,\n",
        "                                 color='#7c0902', linewidth=1.7,\n",
        "                                 ax=ax)\n",
        "\n",
        "# some impression management\n",
        "ax.set_title('ROC Curve', fontsize=11)\n",
        "ax.set_ylabel('True Positive Rate', weight='black')\n",
        "ax.set_xlabel('False Positive Rate', weight='black')\n",
        "ax.legend(fontsize=9)\n",
        "\n",
        "plt.show()"
      ],
      "metadata": {
        "colab": {
          "base_uri": "https://localhost:8080/",
          "height": 408
        },
        "id": "fjC4Qu9BlWgi",
        "outputId": "1137125a-39ce-492b-880d-5ccfa6d568f8"
      },
      "execution_count": null,
      "outputs": [
        {
          "output_type": "display_data",
          "data": {
            "text/plain": [
              "<Figure size 400x400 with 1 Axes>"
            ],
            "image/png": "[encoded data removed]"
          },
          "metadata": {}
        }
      ]
    },
    {
      "cell_type": "markdown",
      "source": [
        "### [`roc_auc_score`](https://scikit-learn.org/stable/modules/generated/sklearn.metrics.roc_auc_score.html#sklearn.metrics.roc_auc_score)\n",
        "> The Are Under the Curve (AUC) is a measure of the ability of a _binary classifier_ to distinguish between classes.\n",
        "+ It is used as a summar of the ROC curve\n",
        "+ The higher the AUC, the better the model's performance at distinguishing between the positive and negative classes"
      ],
      "metadata": {
        "id": "IRpwucvIoC7y"
      }
    },
    {
      "cell_type": "code",
      "source": [
        "# area under curve\n",
        "auc = roc_auc_score(y_test, y_pred)\n",
        "\n",
        "print(f'Area Under Curve: {round(auc, 2)}')"
      ],
      "metadata": {
        "colab": {
          "base_uri": "https://localhost:8080/"
        },
        "id": "bwyfIHDtoGLP",
        "outputId": "814fbfb5-fe6c-4caf-de00-fecf93eeb695"
      },
      "execution_count": null,
      "outputs": [
        {
          "output_type": "stream",
          "name": "stdout",
          "text": [
            "Area Under Curve: 1.0\n"
          ]
        }
      ]
    },
    {
      "cell_type": "markdown",
      "source": [
        "> ✋ **Disclaimer**  \n",
        "> We seem to have achieved _perfect_ model performance. While that might seem like a good thing, perfect model performance is not always desirable, since a model is meant to _generalize_ well on unseen data."
      ],
      "metadata": {
        "id": "2mKbJXZ3Sdcn"
      }
    },
    {
      "cell_type": "markdown",
      "source": [
        "> That said, several factors could be in play:\n",
        "+ **Extremely Simple Data** - The dataset might be very simple and linearly separable, making it easy for any model to perfectly classify the data. This could happen if there are clear and distinct boundaries between the classes in the feature space.\n",
        ">> - This could be the case, especially for the `height` and `motion` features, as seen in how they relate to the target, from the boxplots made earlier in this notebook\n",
        "\n",
        "> + **Small Dataset** - If the dataset is very small, it might be easy for the models to perfectly fit the data. This would also make it more likely that the models overfit.\n",
        "\n",
        "> + **Overfitting** - In our case, in the event that the `RandomForestClassifier` is too complex for the dataset, it could perfectly fit the data. Training a simpler model, such as [`LogisticRegression`](https://scikit-learn.org/stable/modules/generated/sklearn.linear_model.LogisticRegression.html) could help.\n",
        ">> - Though not included in the current notebook, I trained the same data on a simpler model, a `LogisticRegression` model, but achieved the same _perfect_ results"
      ],
      "metadata": {
        "id": "fMKUDLBWOZa2"
      }
    },
    {
      "cell_type": "markdown",
      "source": [
        "> In the case of an extremely simple dataset, several strategies can be considered to address remedy the issue and achieve more realistic model performance:  \n",
        "+ If this were a real-world problem and not hypothetical, collecting more data would help increase the size and diversity of the dataset\n",
        "+ Feature engineering to increase the number of features\n",
        "+ Introducing controlled noise to make classification harder.\n",
        "+ Creating synthetic data using oversampling [`methods`](https://imbalanced-learn.org/stable/references/over_sampling.html) such as [`SMOTE`](https://imbalanced-learn.org/stable/references/generated/imblearn.over_sampling.SMOTE.html) could add complexity to the data\n",
        "+ Ensuring rigorous cross-validation practices to verify that the model's performance is robust and not a result of overfitting to a simple dataset"
      ],
      "metadata": {
        "id": "5_DPCFyiSQjf"
      }
    },
    {
      "cell_type": "markdown",
      "source": [
        "## Tune `roc_curve` decision threshold\n",
        "> A decision / classification threshold is a _cut-off point that converts predicted probabilities output by a machine learning model into descrete classes_. By default, the threshold is `0.5`  "
      ],
      "metadata": {
        "id": "mcRJxsUMGg61"
      }
    },
    {
      "cell_type": "markdown",
      "source": [
        "> Tuning the decision threshold is essential to tailor the model's performance to specific objectives, costs, class imbalances, business metrics, and regulatory requirements. It ensures that the model's predictions align with the real-world needs and constraints of the application."
      ],
      "metadata": {
        "id": "dLU7MgnVPOkz"
      }
    },
    {
      "cell_type": "code",
      "source": [
        "from sklearn.metrics import roc_curve, precision_recall_curve\n",
        "import numpy as np"
      ],
      "metadata": {
        "id": "7y0Vp7KFDwXq"
      },
      "execution_count": null,
      "outputs": []
    },
    {
      "cell_type": "markdown",
      "source": [
        "> [`RandomForestClassifier.predict_proba(X)`](https://scikit-learn.org/stable/modules/generated/sklearn.ensemble.RandomForestClassifier.html#sklearn.ensemble.RandomForestClassifier.predict_proba) predicts the _class probabilities_ of an input sample."
      ],
      "metadata": {
        "id": "Lv0_ZNMHTwBh"
      }
    },
    {
      "cell_type": "code",
      "source": [
        "'''\n",
        "get predicted probabilities, then select all rows of the array,\n",
        "  but only the second column (probability estimates of the +ve class)\n",
        "'''\n",
        "y_probs = forest_model.predict_proba(X_test)[:, 1]"
      ],
      "metadata": {
        "id": "1okPWD4mG-FY"
      },
      "execution_count": null,
      "outputs": []
    },
    {
      "cell_type": "markdown",
      "source": [
        "### Youden's J Statistic\n",
        "> Identify the threshold that maximizes Youden's J statistic (`sensitivity` + `specificity` - `1`)  \n",
        "+ The [`numpy.argmax(a)`](https://numpy.org/doc/stable/reference/generated/numpy.argmax.html) method returns the indices of the maximum values for an input array-like object, `a`"
      ],
      "metadata": {
        "id": "XdVwNNW5U-NA"
      }
    },
    {
      "cell_type": "code",
      "source": [
        "# compute roc_curve\n",
        "fpr, tpr, thresholds = roc_curve(y_test, y_probs)\n",
        "\n",
        "# Youden's J characteristic\n",
        "j_scores = tpr - fpr\n",
        "optimal_index = np.argmax(j_scores)\n",
        "optimal_threshold_j = thresholds[optimal_index]\n",
        "\n",
        "print(optimal_threshold_j)"
      ],
      "metadata": {
        "id": "HXNi6-5LEhOA",
        "colab": {
          "base_uri": "https://localhost:8080/"
        },
        "outputId": "0c5658b2-2fd1-4404-b848-d5c11d3f1af7"
      },
      "execution_count": null,
      "outputs": [
        {
          "output_type": "stream",
          "name": "stdout",
          "text": [
            "1.0\n"
          ]
        }
      ]
    },
    {
      "cell_type": "markdown",
      "source": [
        "### F1 Score Maximization  \n",
        "> Find the threshold that maximizes the `F1` score, which is the harmonic mean of `precision` and `recall`"
      ],
      "metadata": {
        "id": "oK0RegxjVF6V"
      }
    },
    {
      "cell_type": "code",
      "source": [
        "# compute precision recall curve\n",
        "precision, recall, pr_thresholds = precision_recall_curve(y_test, y_probs)\n",
        "\n",
        "# F1 score\n",
        "f1_scores = 2 *((precision*recall)/(precision+recall))\n",
        "optimal_index_f1 = np.argmax(f1_scores)\n",
        "optimal_threshold_f1 = pr_thresholds[optimal_index_f1]\n",
        "\n",
        "print(optimal_threshold_f1)"
      ],
      "metadata": {
        "id": "oNVdMNorFo46",
        "colab": {
          "base_uri": "https://localhost:8080/"
        },
        "outputId": "a40c78aa-c68f-437b-a474-79dd11ab71a9"
      },
      "execution_count": null,
      "outputs": [
        {
          "output_type": "stream",
          "name": "stdout",
          "text": [
            "1.0\n"
          ]
        }
      ]
    },
    {
      "cell_type": "markdown",
      "source": [
        "### Make predictions using the optimal threshold"
      ],
      "metadata": {
        "id": "Oe79T4feVqTc"
      }
    },
    {
      "cell_type": "code",
      "source": [
        "# Make predictions using the optimal threshold from Youden's J characteristic\n",
        "y_pred_optimal_j = (y_probs >= optimal_threshold_j).astype(int)"
      ],
      "metadata": {
        "id": "3VdOA1e-T9b8"
      },
      "execution_count": null,
      "outputs": []
    },
    {
      "cell_type": "code",
      "source": [
        "# Find the size\n",
        "y_pred_optimal_j.size"
      ],
      "metadata": {
        "colab": {
          "base_uri": "https://localhost:8080/"
        },
        "id": "i9ysGWRCVB6u",
        "outputId": "ffcae0d3-5e75-4ff8-df0d-9e7fd7a8fd7c"
      },
      "execution_count": null,
      "outputs": [
        {
          "output_type": "execute_result",
          "data": {
            "text/plain": [
              "300"
            ]
          },
          "metadata": {},
          "execution_count": 26
        }
      ]
    },
    {
      "cell_type": "markdown",
      "source": [
        "> 📚 **Read on:**  \n",
        "> + More information on how to tune decision threshold by prioritising specific metrics can be found on the [`scikit-learn`](https://scikit-learn.org/stable/index.html) documentation linked [`here`](https://scikit-learn.org/stable/modules/classification_threshold.html)  \n",
        "+ Also, [`this`](https://towardsdatascience.com/tune-in-decision-threshold-optimization-with-scikit-learns-tunedthresholdclassifiercv-7de558a2cf58) blog post has valuable insight on the same. Highly recommended.\n",
        "\n",
        "> Till next time 👋"
      ],
      "metadata": {
        "id": "k4_xrRdWayUA"
      }
    }
  ]
}