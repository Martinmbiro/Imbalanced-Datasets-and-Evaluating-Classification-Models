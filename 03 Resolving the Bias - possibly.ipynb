{
  "nbformat": 4,
  "nbformat_minor": 0,
  "metadata": {
    "colab": {
      "provenance": [],
      "toc_visible": true,
      "include_colab_link": true
    },
    "kernelspec": {
      "name": "python3",
      "display_name": "Python 3"
    },
    "language_info": {
      "name": "python"
    }
  },
  "cells": [
    {
      "cell_type": "markdown",
      "metadata": {
        "id": "view-in-github",
        "colab_type": "text"
      },
      "source": [
        "<a href=\"https://colab.research.google.com/github/Martinmbiro/Imbalanced-Datasets-and-Evaluating-Classification-Models/blob/main/03%20Resolving%20the%20Bias%20-%20possibly.ipynb\" target=\"_parent\"><img src=\"https://colab.research.google.com/assets/colab-badge.svg\" alt=\"Open In Colab\"/></a>"
      ]
    },
    {
      "cell_type": "markdown",
      "source": [
        "# **Resolving the Bias?**"
      ],
      "metadata": {
        "id": "_jby1-vPMrWc"
      }
    },
    {
      "cell_type": "markdown",
      "source": [
        "> ❗ **Recall**  \n",
        "> This is an imblanced dataset as label classes are not not equally represented. Consequently, the model is biased towards the majority classes.\n",
        "\n",
        "> Among other approaches, imbalanced datasets can be addressed in the following ways:\n",
        "> + **Improving data selection**\n",
        "> + Using weighted classes\n",
        "> + Resampling the dataset (data augmentation)\n",
        "> + Stratified sampling\n",
        "> + _Tuning decision threshold for `ROC` curve_\n",
        "\n",
        "> For this notebook, I'll be implementing _data augmentation_ by applying _resampling techniques_"
      ],
      "metadata": {
        "id": "al5C7LhGM9eo"
      }
    },
    {
      "cell_type": "markdown",
      "source": [
        "## Loading the data\n",
        "> Let's load our data and explore the label distribution once more"
      ],
      "metadata": {
        "id": "9vPsmemUQe53"
      }
    },
    {
      "cell_type": "code",
      "execution_count": null,
      "metadata": {
        "id": "R1OtbPMqOM-G"
      },
      "outputs": [],
      "source": [
        "import pandas as pd\n",
        "!wget https://raw.githubusercontent.com/MicrosoftDocs/mslearn-introduction-to-machine-learning/main/Data/snow_objects.csv\n",
        "\n",
        "dataset = pd.read_csv('snow_objects.csv', delimiter='\\t')"
      ]
    },
    {
      "cell_type": "code",
      "source": [
        "# dataset info\n",
        "dataset.info()"
      ],
      "metadata": {
        "colab": {
          "base_uri": "https://localhost:8080/"
        },
        "id": "MGPZSwDAQ43q",
        "outputId": "11648243-38b8-47df-88d0-98989f72dfda"
      },
      "execution_count": null,
      "outputs": [
        {
          "output_type": "stream",
          "name": "stdout",
          "text": [
            "<class 'pandas.core.frame.DataFrame'>\n",
            "RangeIndex: 2200 entries, 0 to 2199\n",
            "Data columns (total 5 columns):\n",
            " #   Column     Non-Null Count  Dtype  \n",
            "---  ------     --------------  -----  \n",
            " 0   size       2200 non-null   float64\n",
            " 1   roughness  2200 non-null   float64\n",
            " 2   color      2200 non-null   object \n",
            " 3   motion     2200 non-null   float64\n",
            " 4   label      2200 non-null   object \n",
            "dtypes: float64(3), object(2)\n",
            "memory usage: 86.1+ KB\n"
          ]
        }
      ]
    },
    {
      "cell_type": "code",
      "source": [
        "# the color column is a categorical, hence:\n",
        "dataset['color'] = dataset['color'].astype('category')"
      ],
      "metadata": {
        "id": "GH6sSwpfLpPQ"
      },
      "execution_count": null,
      "outputs": []
    },
    {
      "cell_type": "code",
      "source": [
        "# divide dataset into features and target\n",
        "\n",
        "# features\n",
        "X = dataset[['size', 'roughness', 'color', 'motion']].copy()\n",
        "\n",
        "# target\n",
        "y = dataset['label']\n",
        "\n",
        "# the indices of the numeric and categorical features in the dataframe:\n",
        "numerical_features = [0, 1, 3]\n",
        "categorical_features = [2]"
      ],
      "metadata": {
        "id": "D7kUVU2DLqa8"
      },
      "execution_count": null,
      "outputs": []
    },
    {
      "cell_type": "code",
      "source": [
        "# split data into train and test sets\n",
        "from sklearn.model_selection import train_test_split\n",
        "\n",
        "X_train, X_test, y_train, y_test = train_test_split(X, y, test_size=0.3, random_state=42)"
      ],
      "metadata": {
        "id": "C8t7_2RGLvOw"
      },
      "execution_count": null,
      "outputs": []
    },
    {
      "cell_type": "markdown",
      "source": [
        "## Exploring `label` distribution\n",
        "> Since the `label` column contains categorical data, the `value_counts` for each label class will be used to visualize distribution in a [`bar`](https://matplotlib.org/stable/api/_as_gen/matplotlib.pyplot.bar.html) graph"
      ],
      "metadata": {
        "id": "V9wITX0eREpA"
      }
    },
    {
      "cell_type": "code",
      "source": [
        "# value_counts for each label class\n",
        "dataset['label'].value_counts().sort_values(ascending=True)"
      ],
      "metadata": {
        "colab": {
          "base_uri": "https://localhost:8080/"
        },
        "id": "iBB8ztZmRbh_",
        "outputId": "4ac9b309-1e07-4885-fdb6-3d112310d473"
      },
      "execution_count": null,
      "outputs": [
        {
          "output_type": "execute_result",
          "data": {
            "text/plain": [
              "label\n",
              "animal    200\n",
              "hiker     400\n",
              "tree      800\n",
              "rock      800\n",
              "Name: count, dtype: int64"
            ]
          },
          "metadata": {},
          "execution_count": 7
        }
      ]
    },
    {
      "cell_type": "code",
      "source": [
        "# plotting the distribution\n",
        "import matplotlib.pyplot as plt\n",
        "# specify stylesheet\n",
        "plt.style.use('fast')\n",
        "\n",
        "# specify figure and Axes\n",
        "fig, ax = plt.subplots(figsize=(5.5, 3.5))\n",
        "\n",
        "# make the plot\n",
        "dataset['label'].value_counts().sort_values(ascending=True).plot.bar(\n",
        "    width = 0.85,\n",
        "    color=['#FF8FAB', '#F79D65', '#84A98C', '#2B2D42'],\n",
        "    ax = ax\n",
        ")\n",
        "\n",
        "# modify appearance\n",
        "ax.set_title('Imblanced Label Distribution', fontsize=13)\n",
        "ax.set_ylabel('Count', fontsize=10)\n",
        "ax.set_xlabel('Label', fontsize=10)\n",
        "ax.set_xticklabels(['animal', 'hiker', 'tree', 'rock'],\n",
        "                   rotation=0, weight='black', fontsize=9)\n",
        "\n",
        "plt.show()"
      ],
      "metadata": {
        "colab": {
          "base_uri": "https://localhost:8080/",
          "height": 371
        },
        "id": "umAd5QSnTzdL",
        "outputId": "b5e6a58c-009a-4e8a-948b-e791de3b6df6"
      },
      "execution_count": null,
      "outputs": [
        {
          "output_type": "display_data",
          "data": {
            "text/plain": [
              "<Figure size 550x350 with 1 Axes>"
            ],
            "image/png": "[encoded data removed]"
          },
          "metadata": {}
        }
      ]
    },
    {
      "cell_type": "markdown",
      "source": [
        "# **Data Augmentation**\n",
        "> _Data augmentation_ is the technique of artificially increasing the training set by creating modified copies of a dataset using _existing data._ To achieve this, I'll be using the [`imblearn`](https://imbalanced-learn.org/stable/index.html) library\n",
        "\n",
        "> [`imblearn`](https://imbalanced-learn.org/stable/index.html) is an open source library that provides tools to deal with imbalanced classes\n",
        "\n",
        "> In the end, data augmentation should improve the model's generalization ability, making it more robust to different variations and helping to prevent overfitting"
      ],
      "metadata": {
        "id": "LAVKxTivXJD-"
      }
    },
    {
      "cell_type": "markdown",
      "source": [
        "## Resampling methods\n",
        "> Some of the resampling approaches provided by [`imblearn`](https://imbalanced-learn.org/stable/index.html) for data augmentation include:\n",
        "+ [`Undersampling the majority class`](https://imbalanced-learn.org/stable/references/under_sampling.html)\n",
        "+ [`Oversampling the minority class`](https://imbalanced-learn.org/stable/references/over_sampling.html)\n",
        "+ [`Hybrid methods (oversumpling + undersampling)`](https://imbalanced-learn.org/stable/references/combine.html)\n",
        "+ [`Ensemble methods`](https://imbalanced-learn.org/stable/references/ensemble.html)\n",
        "\n",
        "> In this notebook, my focus will be _oversampling, undersampling_ & _hybrid methods_. Let's dive in!"
      ],
      "metadata": {
        "id": "WMrdUtT2MhJ8"
      }
    },
    {
      "cell_type": "code",
      "source": [
        "# import necessary libraries\n",
        "from imblearn.pipeline import Pipeline as ImbPipeline\n",
        "from imblearn.over_sampling import BorderlineSMOTE\n",
        "from sklearn.preprocessing import OrdinalEncoder\n",
        "from imblearn.over_sampling import ADASYN\n",
        "from imblearn.under_sampling import EditedNearestNeighbours\n",
        "from imblearn.over_sampling import SMOTENC\n",
        "from imblearn.combine import SMOTEENN"
      ],
      "metadata": {
        "id": "bCsXp0Q3ir4U"
      },
      "execution_count": null,
      "outputs": []
    },
    {
      "cell_type": "markdown",
      "source": [
        "### Encode the categorical feature `color`"
      ],
      "metadata": {
        "id": "ZF9kNAyWviSC"
      }
    },
    {
      "cell_type": "code",
      "source": [
        "# Ordinal Encoder object\n",
        "encoder = OrdinalEncoder(handle_unknown='use_encoded_value', unknown_value=76)\n",
        "\n",
        "# encode the color column (since it's categorical/nominal)\n",
        "X_train[['color']] = encoder.fit_transform(X_train[['color']])\n",
        "\n",
        "# a little peek into the now encoded dataframe\n",
        "X_train.head(3)"
      ],
      "metadata": {
        "id": "YKZMEGHENhlB",
        "colab": {
          "base_uri": "https://localhost:8080/",
          "height": 143
        },
        "outputId": "54668c3b-3a36-4f23-a096-441c8d0c1f4f"
      },
      "execution_count": null,
      "outputs": [
        {
          "output_type": "execute_result",
          "data": {
            "text/plain": [
              "           size  roughness  color    motion\n",
              "1102   2.529090   0.812577    2.0  0.026457\n",
              "1159   4.308704   1.536331    0.0  0.006440\n",
              "141   60.049241   0.954721    7.0  0.000000"
            ],
            "text/html": [
              "\n",
              "  <div id=\"df-a5e0797f-cd35-4bb9-b8bb-378fbaeec176\" class=\"colab-df-container\">\n",
              "    <div>\n",
              "<style scoped>\n",
              "    .dataframe tbody tr th:only-of-type {\n",
              "        vertical-align: middle;\n",
              "    }\n",
              "\n",
              "    .dataframe tbody tr th {\n",
              "        vertical-align: top;\n",
              "    }\n",
              "\n",
              "    .dataframe thead th {\n",
              "        text-align: right;\n",
              "    }\n",
              "</style>\n",
              "<table border=\"1\" class=\"dataframe\">\n",
              "  <thead>\n",
              "    <tr style=\"text-align: right;\">\n",
              "      <th></th>\n",
              "      <th>size</th>\n",
              "      <th>roughness</th>\n",
              "      <th>color</th>\n",
              "      <th>motion</th>\n",
              "    </tr>\n",
              "  </thead>\n",
              "  <tbody>\n",
              "    <tr>\n",
              "      <th>1102</th>\n",
              "      <td>2.529090</td>\n",
              "      <td>0.812577</td>\n",
              "      <td>2.0</td>\n",
              "      <td>0.026457</td>\n",
              "    </tr>\n",
              "    <tr>\n",
              "      <th>1159</th>\n",
              "      <td>4.308704</td>\n",
              "      <td>1.536331</td>\n",
              "      <td>0.0</td>\n",
              "      <td>0.006440</td>\n",
              "    </tr>\n",
              "    <tr>\n",
              "      <th>141</th>\n",
              "      <td>60.049241</td>\n",
              "      <td>0.954721</td>\n",
              "      <td>7.0</td>\n",
              "      <td>0.000000</td>\n",
              "    </tr>\n",
              "  </tbody>\n",
              "</table>\n",
              "</div>\n",
              "    <div class=\"colab-df-buttons\">\n",
              "\n",
              "  <div class=\"colab-df-container\">\n",
              "    <button class=\"colab-df-convert\" onclick=\"convertToInteractive('df-a5e0797f-cd35-4bb9-b8bb-378fbaeec176')\"\n",
              "            title=\"Convert this dataframe to an interactive table.\"\n",
              "            style=\"display:none;\">\n",
              "\n",
              "  <svg xmlns=\"http://www.w3.org/2000/svg\" height=\"24px\" viewBox=\"0 -960 960 960\">\n",
              "    <path d=\"M120-120v-720h720v720H120Zm60-500h600v-160H180v160Zm220 220h160v-160H400v160Zm0 220h160v-160H400v160ZM180-400h160v-160H180v160Zm440 0h160v-160H620v160ZM180-180h160v-160H180v160Zm440 0h160v-160H620v160Z\"/>\n",
              "  </svg>\n",
              "    </button>\n",
              "\n",
              "  <style>\n",
              "    .colab-df-container {\n",
              "      display:flex;\n",
              "      gap: 12px;\n",
              "    }\n",
              "\n",
              "    .colab-df-convert {\n",
              "      background-color: #E8F0FE;\n",
              "      border: none;\n",
              "      border-radius: 50%;\n",
              "      cursor: pointer;\n",
              "      display: none;\n",
              "      fill: #1967D2;\n",
              "      height: 32px;\n",
              "      padding: 0 0 0 0;\n",
              "      width: 32px;\n",
              "    }\n",
              "\n",
              "    .colab-df-convert:hover {\n",
              "      background-color: #E2EBFA;\n",
              "      box-shadow: 0px 1px 2px rgba(60, 64, 67, 0.3), 0px 1px 3px 1px rgba(60, 64, 67, 0.15);\n",
              "      fill: #174EA6;\n",
              "    }\n",
              "\n",
              "    .colab-df-buttons div {\n",
              "      margin-bottom: 4px;\n",
              "    }\n",
              "\n",
              "    [theme=dark] .colab-df-convert {\n",
              "      background-color: #3B4455;\n",
              "      fill: #D2E3FC;\n",
              "    }\n",
              "\n",
              "    [theme=dark] .colab-df-convert:hover {\n",
              "      background-color: #434B5C;\n",
              "      box-shadow: 0px 1px 3px 1px rgba(0, 0, 0, 0.15);\n",
              "      filter: drop-shadow(0px 1px 2px rgba(0, 0, 0, 0.3));\n",
              "      fill: #FFFFFF;\n",
              "    }\n",
              "  </style>\n",
              "\n",
              "    <script>\n",
              "      const buttonEl =\n",
              "        document.querySelector('#df-a5e0797f-cd35-4bb9-b8bb-378fbaeec176 button.colab-df-convert');\n",
              "      buttonEl.style.display =\n",
              "        google.colab.kernel.accessAllowed ? 'block' : 'none';\n",
              "\n",
              "      async function convertToInteractive(key) {\n",
              "        const element = document.querySelector('#df-a5e0797f-cd35-4bb9-b8bb-378fbaeec176');\n",
              "        const dataTable =\n",
              "          await google.colab.kernel.invokeFunction('convertToInteractive',\n",
              "                                                    [key], {});\n",
              "        if (!dataTable) return;\n",
              "\n",
              "        const docLinkHtml = 'Like what you see? Visit the ' +\n",
              "          '<a target=\"_blank\" href=https://colab.research.google.com/notebooks/data_table.ipynb>data table notebook</a>'\n",
              "          + ' to learn more about interactive tables.';\n",
              "        element.innerHTML = '';\n",
              "        dataTable['output_type'] = 'display_data';\n",
              "        await google.colab.output.renderOutput(dataTable, element);\n",
              "        const docLink = document.createElement('div');\n",
              "        docLink.innerHTML = docLinkHtml;\n",
              "        element.appendChild(docLink);\n",
              "      }\n",
              "    </script>\n",
              "  </div>\n",
              "\n",
              "\n",
              "<div id=\"df-de55347e-692d-4668-80e1-5dcf48ffafa3\">\n",
              "  <button class=\"colab-df-quickchart\" onclick=\"quickchart('df-de55347e-692d-4668-80e1-5dcf48ffafa3')\"\n",
              "            title=\"Suggest charts\"\n",
              "            style=\"display:none;\">\n",
              "\n",
              "<svg xmlns=\"http://www.w3.org/2000/svg\" height=\"24px\"viewBox=\"0 0 24 24\"\n",
              "     width=\"24px\">\n",
              "    <g>\n",
              "        <path d=\"M19 3H5c-1.1 0-2 .9-2 2v14c0 1.1.9 2 2 2h14c1.1 0 2-.9 2-2V5c0-1.1-.9-2-2-2zM9 17H7v-7h2v7zm4 0h-2V7h2v10zm4 0h-2v-4h2v4z\"/>\n",
              "    </g>\n",
              "</svg>\n",
              "  </button>\n",
              "\n",
              "<style>\n",
              "  .colab-df-quickchart {\n",
              "      --bg-color: #E8F0FE;\n",
              "      --fill-color: #1967D2;\n",
              "      --hover-bg-color: #E2EBFA;\n",
              "      --hover-fill-color: #174EA6;\n",
              "      --disabled-fill-color: #AAA;\n",
              "      --disabled-bg-color: #DDD;\n",
              "  }\n",
              "\n",
              "  [theme=dark] .colab-df-quickchart {\n",
              "      --bg-color: #3B4455;\n",
              "      --fill-color: #D2E3FC;\n",
              "      --hover-bg-color: #434B5C;\n",
              "      --hover-fill-color: #FFFFFF;\n",
              "      --disabled-bg-color: #3B4455;\n",
              "      --disabled-fill-color: #666;\n",
              "  }\n",
              "\n",
              "  .colab-df-quickchart {\n",
              "    background-color: var(--bg-color);\n",
              "    border: none;\n",
              "    border-radius: 50%;\n",
              "    cursor: pointer;\n",
              "    display: none;\n",
              "    fill: var(--fill-color);\n",
              "    height: 32px;\n",
              "    padding: 0;\n",
              "    width: 32px;\n",
              "  }\n",
              "\n",
              "  .colab-df-quickchart:hover {\n",
              "    background-color: var(--hover-bg-color);\n",
              "    box-shadow: 0 1px 2px rgba(60, 64, 67, 0.3), 0 1px 3px 1px rgba(60, 64, 67, 0.15);\n",
              "    fill: var(--button-hover-fill-color);\n",
              "  }\n",
              "\n",
              "  .colab-df-quickchart-complete:disabled,\n",
              "  .colab-df-quickchart-complete:disabled:hover {\n",
              "    background-color: var(--disabled-bg-color);\n",
              "    fill: var(--disabled-fill-color);\n",
              "    box-shadow: none;\n",
              "  }\n",
              "\n",
              "  .colab-df-spinner {\n",
              "    border: 2px solid var(--fill-color);\n",
              "    border-color: transparent;\n",
              "    border-bottom-color: var(--fill-color);\n",
              "    animation:\n",
              "      spin 1s steps(1) infinite;\n",
              "  }\n",
              "\n",
              "  @keyframes spin {\n",
              "    0% {\n",
              "      border-color: transparent;\n",
              "      border-bottom-color: var(--fill-color);\n",
              "      border-left-color: var(--fill-color);\n",
              "    }\n",
              "    20% {\n",
              "      border-color: transparent;\n",
              "      border-left-color: var(--fill-color);\n",
              "      border-top-color: var(--fill-color);\n",
              "    }\n",
              "    30% {\n",
              "      border-color: transparent;\n",
              "      border-left-color: var(--fill-color);\n",
              "      border-top-color: var(--fill-color);\n",
              "      border-right-color: var(--fill-color);\n",
              "    }\n",
              "    40% {\n",
              "      border-color: transparent;\n",
              "      border-right-color: var(--fill-color);\n",
              "      border-top-color: var(--fill-color);\n",
              "    }\n",
              "    60% {\n",
              "      border-color: transparent;\n",
              "      border-right-color: var(--fill-color);\n",
              "    }\n",
              "    80% {\n",
              "      border-color: transparent;\n",
              "      border-right-color: var(--fill-color);\n",
              "      border-bottom-color: var(--fill-color);\n",
              "    }\n",
              "    90% {\n",
              "      border-color: transparent;\n",
              "      border-bottom-color: var(--fill-color);\n",
              "    }\n",
              "  }\n",
              "</style>\n",
              "\n",
              "  <script>\n",
              "    async function quickchart(key) {\n",
              "      const quickchartButtonEl =\n",
              "        document.querySelector('#' + key + ' button');\n",
              "      quickchartButtonEl.disabled = true;  // To prevent multiple clicks.\n",
              "      quickchartButtonEl.classList.add('colab-df-spinner');\n",
              "      try {\n",
              "        const charts = await google.colab.kernel.invokeFunction(\n",
              "            'suggestCharts', [key], {});\n",
              "      } catch (error) {\n",
              "        console.error('Error during call to suggestCharts:', error);\n",
              "      }\n",
              "      quickchartButtonEl.classList.remove('colab-df-spinner');\n",
              "      quickchartButtonEl.classList.add('colab-df-quickchart-complete');\n",
              "    }\n",
              "    (() => {\n",
              "      let quickchartButtonEl =\n",
              "        document.querySelector('#df-de55347e-692d-4668-80e1-5dcf48ffafa3 button');\n",
              "      quickchartButtonEl.style.display =\n",
              "        google.colab.kernel.accessAllowed ? 'block' : 'none';\n",
              "    })();\n",
              "  </script>\n",
              "</div>\n",
              "\n",
              "    </div>\n",
              "  </div>\n"
            ],
            "application/vnd.google.colaboratory.intrinsic+json": {
              "type": "dataframe",
              "variable_name": "X_train",
              "summary": "{\n  \"name\": \"X_train\",\n  \"rows\": 1540,\n  \"fields\": [\n    {\n      \"column\": \"size\",\n      \"properties\": {\n        \"dtype\": \"number\",\n        \"std\": 84.78730607806226,\n        \"min\": 0.2,\n        \"max\": 2730.8597677938124,\n        \"num_unique_values\": 1496,\n        \"samples\": [\n          1.7417166501666723,\n          1.8006156792253032,\n          1.1729625943873394\n        ],\n        \"semantic_type\": \"\",\n        \"description\": \"\"\n      }\n    },\n    {\n      \"column\": \"roughness\",\n      \"properties\": {\n        \"dtype\": \"number\",\n        \"std\": 0.35499471228786766,\n        \"min\": 0.0,\n        \"max\": 2.0925667831138184,\n        \"num_unique_values\": 1533,\n        \"samples\": [\n          1.2102141284142671,\n          0.4894541042287746,\n          0.6570761930496862\n        ],\n        \"semantic_type\": \"\",\n        \"description\": \"\"\n      }\n    },\n    {\n      \"column\": \"color\",\n      \"properties\": {\n        \"dtype\": \"number\",\n        \"std\": 2.332117857641761,\n        \"min\": 0.0,\n        \"max\": 7.0,\n        \"num_unique_values\": 8,\n        \"samples\": [\n          0.0,\n          1.0,\n          2.0\n        ],\n        \"semantic_type\": \"\",\n        \"description\": \"\"\n      }\n    },\n    {\n      \"column\": \"motion\",\n      \"properties\": {\n        \"dtype\": \"number\",\n        \"std\": 1.5316195923656275,\n        \"min\": 0.0,\n        \"max\": 10.503014402535412,\n        \"num_unique_values\": 1304,\n        \"samples\": [\n          0.0047100814493836,\n          0.0358956306767625,\n          0.5172947735670992\n        ],\n        \"semantic_type\": \"\",\n        \"description\": \"\"\n      }\n    }\n  ]\n}"
            }
          },
          "metadata": {},
          "execution_count": 10
        }
      ]
    },
    {
      "cell_type": "markdown",
      "source": [
        "### [`imblearn.over_sampling.SMOTENC`](https://imbalanced-learn.org/stable/references/generated/imblearn.over_sampling.SMOTENC.html#smotenc)\n",
        "+ Synthetic Minority Over-sampling Technique ([`SMOTE`](https://imbalanced-learn.org/stable/references/over_sampling.html#smote-algorithms)) for Categorical and Numeric data\n",
        "\n",
        "> **Constructor:**  \n",
        "```\n",
        "SMOTENC(categorical_features, *, categorical_encoder=None, sampling_strategy='auto',\n",
        "random_state=None, k_neighbors=5, n_jobs=None)\n",
        "```"
      ],
      "metadata": {
        "id": "bPtg0RpcQQB2"
      }
    },
    {
      "cell_type": "code",
      "source": [
        "# SMOTENC\n",
        "# since our dataset contains a nominal (categorical) column: color\n",
        "\n",
        "smotenc = SMOTENC(categorical_features=categorical_features,\n",
        "                  sampling_strategy = 'auto',\n",
        "                  random_state=42)\n",
        "\n",
        "# resample\n",
        "# Xr, yr smotenc.fit_resample(X_train, y_train)"
      ],
      "metadata": {
        "id": "530WaqH9PzXM"
      },
      "execution_count": null,
      "outputs": []
    },
    {
      "cell_type": "markdown",
      "source": [
        "### [`imblearn.over_sampling.ADASYN`](https://imbalanced-learn.org/stable/references/generated/imblearn.over_sampling.ADASYN.html)\n",
        "+ Oversample using Adaptive Synthetic (ADASYN) algorithm  \n",
        "+ Similar to SMOTE but it generates different number of samples depending on an estimate of the local distribution of the class to be oversampled\n",
        "\n",
        "> **Constructor:**  \n",
        "```\n",
        "ADASYN(*, sampling_strategy='auto', random_state=None, n_neighbors=5, n_jobs=None)\n",
        "```"
      ],
      "metadata": {
        "id": "_u2vQe8Wv4cC"
      }
    },
    {
      "cell_type": "code",
      "source": [
        "# oversampling with ADASYN\n",
        "adasyn = ADASYN(sampling_strategy = 'auto',\n",
        "                random_state = 42)"
      ],
      "metadata": {
        "id": "LHVQgDh53ZhG"
      },
      "execution_count": null,
      "outputs": []
    },
    {
      "cell_type": "markdown",
      "source": [
        "#### [`imblearn.under_sampling.EditedNearestNeighbours`](https://imbalanced-learn.org/stable/references/generated/imblearn.under_sampling.EditedNearestNeighbours.html)\n",
        "+ Undersample based on the edited nearest neighbour method  \n",
        "+ This method cleans the dataset by removing samples close to the decision boundary\n",
        "\n",
        "> **Constructor:**  \n",
        "```\n",
        "EditedNearestNeighbours(*, sampling_strategy='auto', n_neighbors=3, kind_sel='all', n_jobs=None)\n",
        "```"
      ],
      "metadata": {
        "id": "BLEjXyzM5EHc"
      }
    },
    {
      "cell_type": "markdown",
      "source": [
        "> To apply a list of resampling techniques, I'll use `imblearn` [`Pipeline`](https://imbalanced-learn.org/stable/references/generated/imblearn.pipeline.Pipeline.html#imblearn.pipeline.Pipeline)\n",
        "+ Pipeline of transforms and resamples with a possible final estimator  \n",
        "+ Intermediate steps of the pipeline must be transformers or resamplers, that is, they must implement `fit`, `transform` and `sample` methods"
      ],
      "metadata": {
        "id": "iLQM9Hja5-gx"
      }
    },
    {
      "cell_type": "code",
      "source": [
        "# ADASYN + ENN pipeline\n",
        "\n",
        "adasynenn = ImbPipeline(steps=[\n",
        "    # (name, sampler/transformer)\n",
        "    ('adsyn', ADASYN(sampling_strategy = dict(animal=400), random_state=42)),\n",
        "    ('enn', EditedNearestNeighbours(sampling_strategy=['animal']))\n",
        "])\n",
        "\n",
        "# resample\n",
        "#Xr, yr = adasynenn.fit_resample(X_train, y_train)"
      ],
      "metadata": {
        "id": "eMW2n2kZrNkh"
      },
      "execution_count": null,
      "outputs": []
    },
    {
      "cell_type": "markdown",
      "source": [
        "### [`imblearn.over_sampling.BorderlineSMOTE`](https://imbalanced-learn.org/stable/references/generated/imblearn.over_sampling.BorderlineSMOTE.html#r63962efaf197-2)\n",
        "+ A variant of the original SMOTE algorithm  \n",
        "+ Borderline samples will be detected and used to generate new synthetic samples\n",
        "\n",
        "> **Constructor:**  \n",
        "```\n",
        "imblearn.over_sampling.BorderlineSMOTE(*, sampling_strategy='auto', random_state=None,\n",
        "k_neighbors=5, n_jobs=None, m_neighbors=10, kind='borderline-1')\n",
        "```"
      ],
      "metadata": {
        "id": "EMidd8k6wuBa"
      }
    },
    {
      "cell_type": "code",
      "source": [
        "# BorderlineSmote + ENN pipeline\n",
        "\n",
        "blenn = ImbPipeline(steps=[\n",
        "    # (name, sampler/transformer)\n",
        "    ('blsmote', BorderlineSMOTE(sampling_strategy = dict(animal=400),\n",
        "                                random_state=42)),\n",
        "    ('enn', EditedNearestNeighbours(sampling_strategy=['animal']))\n",
        "])\n",
        "\n",
        "# resample\n",
        "#Xr, yr = blenn.fit_resample(X_train, y_train)"
      ],
      "metadata": {
        "id": "Wg8zWVzbmbUt"
      },
      "execution_count": null,
      "outputs": []
    },
    {
      "cell_type": "markdown",
      "source": [
        "### [`imblearn.combine.SMOTEENN`](https://imbalanced-learn.org/stable/references/generated/imblearn.combine.SMOTEENN.html#imblearn.combine.SMOTEENN)\n",
        "+ Combines oversampling using Synthetic Minority Over-sampling Technique ([`SMOTE`](https://imbalanced-learn.org/stable/references/over_sampling.html#smote-algorithms)) with undersampling using [`EditedNearestNeighbours`](https://imbalanced-learn.org/stable/references/generated/imblearn.under_sampling.EditedNearestNeighbours.html#imblearn.under_sampling.EditedNearestNeighbours)  \n",
        "+ Effectively reduces noise by removing misclassified samples, leading to a cleaner dataset\n",
        "\n",
        "> **Constructor:**  \n",
        "```\n",
        "SMOTEENN(*, sampling_strategy='auto', random_state=None, smote=None, enn=None, n_jobs=None)\n",
        "```\n",
        "\n",
        "> Note that the `smote` parameter can accept `SMOTE` variants such as those listed [`here`](https://imbalanced-learn.org/stable/references/over_sampling.html#smote-algorithms)"
      ],
      "metadata": {
        "id": "bZH8pMehPysd"
      }
    },
    {
      "cell_type": "code",
      "source": [
        "# creating a SMOTEENN object\n",
        "\n",
        "smoteenn = SMOTEENN(smote= smotenc,\n",
        "                    enn = EditedNearestNeighbours(\n",
        "                        sampling_strategy=['rock', 'tree']),\n",
        "                    random_state=42,\n",
        "                    n_jobs=-1)\n",
        "\n",
        "# resample\n",
        "#Xr, yr = smoteenn.fit_resample(X_train, y_train)"
      ],
      "metadata": {
        "id": "zrFJ7GKLRbwq"
      },
      "execution_count": null,
      "outputs": []
    },
    {
      "cell_type": "markdown",
      "source": [
        "## Resampling the training set\n",
        "> 📝 **Note**  \n",
        "+ Oversampling / undersampling is done on training data; `X_train` & `y_train` **after** splitting has been done\n",
        "+ Sampling before splitting would not reflect real conditions where the model would be operating, since the test set would have synthetic data  \n",
        "+ Sampling classes have a method [`fit_resample(X, y)`](https://imbalanced-learn.org/stable/references/generated/imblearn.combine.SMOTEENN.html#imblearn.combine.SMOTEENN.fit_resample) that resamples the dataset and returns `X_resampled` & `y_resampled`\n",
        "+ For this exercise, I run all the sampling methods listed above, but found that `SMOTENC` produced the highest most consistent results on the confusion matrix (which is why it's the only one I've used to resample in this notebook)"
      ],
      "metadata": {
        "id": "UgMMzhiqWQEv"
      }
    },
    {
      "cell_type": "code",
      "source": [
        "# resample using SMOTENC\n",
        "X_res, y_res = smotenc.fit_resample(X_train, y_train)\n",
        "\n",
        "# decode the color column back to its original form\n",
        "X_res[['color']] = encoder.inverse_transform(X_res[['color']])\n",
        "y_res.value_counts()"
      ],
      "metadata": {
        "colab": {
          "base_uri": "https://localhost:8080/"
        },
        "id": "ICkneCyHWT27",
        "outputId": "61166c55-443b-4e13-ca8e-f641eebb014c"
      },
      "execution_count": null,
      "outputs": [
        {
          "output_type": "execute_result",
          "data": {
            "text/plain": [
              "label\n",
              "rock      578\n",
              "tree      578\n",
              "hiker     578\n",
              "animal    578\n",
              "Name: count, dtype: int64"
            ]
          },
          "metadata": {},
          "execution_count": 12
        }
      ]
    },
    {
      "cell_type": "code",
      "source": [
        "# a peek into the data\n",
        "X_res.sample(3)"
      ],
      "metadata": {
        "colab": {
          "base_uri": "https://localhost:8080/",
          "height": 143
        },
        "id": "4yDCSyzoRhve",
        "outputId": "6e910080-fd93-482d-a09c-a6e657ca028a"
      },
      "execution_count": null,
      "outputs": [
        {
          "output_type": "execute_result",
          "data": {
            "text/plain": [
              "          size  roughness  color    motion\n",
              "822   1.234860   1.512887  brown  0.316775\n",
              "355   3.097799   1.104496  green  0.013944\n",
              "1495  1.675287   0.000000   grey  3.849493"
            ],
            "text/html": [
              "\n",
              "  <div id=\"df-a980bc7f-ce59-4b4a-93c2-f764e829cab3\" class=\"colab-df-container\">\n",
              "    <div>\n",
              "<style scoped>\n",
              "    .dataframe tbody tr th:only-of-type {\n",
              "        vertical-align: middle;\n",
              "    }\n",
              "\n",
              "    .dataframe tbody tr th {\n",
              "        vertical-align: top;\n",
              "    }\n",
              "\n",
              "    .dataframe thead th {\n",
              "        text-align: right;\n",
              "    }\n",
              "</style>\n",
              "<table border=\"1\" class=\"dataframe\">\n",
              "  <thead>\n",
              "    <tr style=\"text-align: right;\">\n",
              "      <th></th>\n",
              "      <th>size</th>\n",
              "      <th>roughness</th>\n",
              "      <th>color</th>\n",
              "      <th>motion</th>\n",
              "    </tr>\n",
              "  </thead>\n",
              "  <tbody>\n",
              "    <tr>\n",
              "      <th>822</th>\n",
              "      <td>1.234860</td>\n",
              "      <td>1.512887</td>\n",
              "      <td>brown</td>\n",
              "      <td>0.316775</td>\n",
              "    </tr>\n",
              "    <tr>\n",
              "      <th>355</th>\n",
              "      <td>3.097799</td>\n",
              "      <td>1.104496</td>\n",
              "      <td>green</td>\n",
              "      <td>0.013944</td>\n",
              "    </tr>\n",
              "    <tr>\n",
              "      <th>1495</th>\n",
              "      <td>1.675287</td>\n",
              "      <td>0.000000</td>\n",
              "      <td>grey</td>\n",
              "      <td>3.849493</td>\n",
              "    </tr>\n",
              "  </tbody>\n",
              "</table>\n",
              "</div>\n",
              "    <div class=\"colab-df-buttons\">\n",
              "\n",
              "  <div class=\"colab-df-container\">\n",
              "    <button class=\"colab-df-convert\" onclick=\"convertToInteractive('df-a980bc7f-ce59-4b4a-93c2-f764e829cab3')\"\n",
              "            title=\"Convert this dataframe to an interactive table.\"\n",
              "            style=\"display:none;\">\n",
              "\n",
              "  <svg xmlns=\"http://www.w3.org/2000/svg\" height=\"24px\" viewBox=\"0 -960 960 960\">\n",
              "    <path d=\"M120-120v-720h720v720H120Zm60-500h600v-160H180v160Zm220 220h160v-160H400v160Zm0 220h160v-160H400v160ZM180-400h160v-160H180v160Zm440 0h160v-160H620v160ZM180-180h160v-160H180v160Zm440 0h160v-160H620v160Z\"/>\n",
              "  </svg>\n",
              "    </button>\n",
              "\n",
              "  <style>\n",
              "    .colab-df-container {\n",
              "      display:flex;\n",
              "      gap: 12px;\n",
              "    }\n",
              "\n",
              "    .colab-df-convert {\n",
              "      background-color: #E8F0FE;\n",
              "      border: none;\n",
              "      border-radius: 50%;\n",
              "      cursor: pointer;\n",
              "      display: none;\n",
              "      fill: #1967D2;\n",
              "      height: 32px;\n",
              "      padding: 0 0 0 0;\n",
              "      width: 32px;\n",
              "    }\n",
              "\n",
              "    .colab-df-convert:hover {\n",
              "      background-color: #E2EBFA;\n",
              "      box-shadow: 0px 1px 2px rgba(60, 64, 67, 0.3), 0px 1px 3px 1px rgba(60, 64, 67, 0.15);\n",
              "      fill: #174EA6;\n",
              "    }\n",
              "\n",
              "    .colab-df-buttons div {\n",
              "      margin-bottom: 4px;\n",
              "    }\n",
              "\n",
              "    [theme=dark] .colab-df-convert {\n",
              "      background-color: #3B4455;\n",
              "      fill: #D2E3FC;\n",
              "    }\n",
              "\n",
              "    [theme=dark] .colab-df-convert:hover {\n",
              "      background-color: #434B5C;\n",
              "      box-shadow: 0px 1px 3px 1px rgba(0, 0, 0, 0.15);\n",
              "      filter: drop-shadow(0px 1px 2px rgba(0, 0, 0, 0.3));\n",
              "      fill: #FFFFFF;\n",
              "    }\n",
              "  </style>\n",
              "\n",
              "    <script>\n",
              "      const buttonEl =\n",
              "        document.querySelector('#df-a980bc7f-ce59-4b4a-93c2-f764e829cab3 button.colab-df-convert');\n",
              "      buttonEl.style.display =\n",
              "        google.colab.kernel.accessAllowed ? 'block' : 'none';\n",
              "\n",
              "      async function convertToInteractive(key) {\n",
              "        const element = document.querySelector('#df-a980bc7f-ce59-4b4a-93c2-f764e829cab3');\n",
              "        const dataTable =\n",
              "          await google.colab.kernel.invokeFunction('convertToInteractive',\n",
              "                                                    [key], {});\n",
              "        if (!dataTable) return;\n",
              "\n",
              "        const docLinkHtml = 'Like what you see? Visit the ' +\n",
              "          '<a target=\"_blank\" href=https://colab.research.google.com/notebooks/data_table.ipynb>data table notebook</a>'\n",
              "          + ' to learn more about interactive tables.';\n",
              "        element.innerHTML = '';\n",
              "        dataTable['output_type'] = 'display_data';\n",
              "        await google.colab.output.renderOutput(dataTable, element);\n",
              "        const docLink = document.createElement('div');\n",
              "        docLink.innerHTML = docLinkHtml;\n",
              "        element.appendChild(docLink);\n",
              "      }\n",
              "    </script>\n",
              "  </div>\n",
              "\n",
              "\n",
              "<div id=\"df-60be5df2-f134-450b-ba19-c1e33f5cf25c\">\n",
              "  <button class=\"colab-df-quickchart\" onclick=\"quickchart('df-60be5df2-f134-450b-ba19-c1e33f5cf25c')\"\n",
              "            title=\"Suggest charts\"\n",
              "            style=\"display:none;\">\n",
              "\n",
              "<svg xmlns=\"http://www.w3.org/2000/svg\" height=\"24px\"viewBox=\"0 0 24 24\"\n",
              "     width=\"24px\">\n",
              "    <g>\n",
              "        <path d=\"M19 3H5c-1.1 0-2 .9-2 2v14c0 1.1.9 2 2 2h14c1.1 0 2-.9 2-2V5c0-1.1-.9-2-2-2zM9 17H7v-7h2v7zm4 0h-2V7h2v10zm4 0h-2v-4h2v4z\"/>\n",
              "    </g>\n",
              "</svg>\n",
              "  </button>\n",
              "\n",
              "<style>\n",
              "  .colab-df-quickchart {\n",
              "      --bg-color: #E8F0FE;\n",
              "      --fill-color: #1967D2;\n",
              "      --hover-bg-color: #E2EBFA;\n",
              "      --hover-fill-color: #174EA6;\n",
              "      --disabled-fill-color: #AAA;\n",
              "      --disabled-bg-color: #DDD;\n",
              "  }\n",
              "\n",
              "  [theme=dark] .colab-df-quickchart {\n",
              "      --bg-color: #3B4455;\n",
              "      --fill-color: #D2E3FC;\n",
              "      --hover-bg-color: #434B5C;\n",
              "      --hover-fill-color: #FFFFFF;\n",
              "      --disabled-bg-color: #3B4455;\n",
              "      --disabled-fill-color: #666;\n",
              "  }\n",
              "\n",
              "  .colab-df-quickchart {\n",
              "    background-color: var(--bg-color);\n",
              "    border: none;\n",
              "    border-radius: 50%;\n",
              "    cursor: pointer;\n",
              "    display: none;\n",
              "    fill: var(--fill-color);\n",
              "    height: 32px;\n",
              "    padding: 0;\n",
              "    width: 32px;\n",
              "  }\n",
              "\n",
              "  .colab-df-quickchart:hover {\n",
              "    background-color: var(--hover-bg-color);\n",
              "    box-shadow: 0 1px 2px rgba(60, 64, 67, 0.3), 0 1px 3px 1px rgba(60, 64, 67, 0.15);\n",
              "    fill: var(--button-hover-fill-color);\n",
              "  }\n",
              "\n",
              "  .colab-df-quickchart-complete:disabled,\n",
              "  .colab-df-quickchart-complete:disabled:hover {\n",
              "    background-color: var(--disabled-bg-color);\n",
              "    fill: var(--disabled-fill-color);\n",
              "    box-shadow: none;\n",
              "  }\n",
              "\n",
              "  .colab-df-spinner {\n",
              "    border: 2px solid var(--fill-color);\n",
              "    border-color: transparent;\n",
              "    border-bottom-color: var(--fill-color);\n",
              "    animation:\n",
              "      spin 1s steps(1) infinite;\n",
              "  }\n",
              "\n",
              "  @keyframes spin {\n",
              "    0% {\n",
              "      border-color: transparent;\n",
              "      border-bottom-color: var(--fill-color);\n",
              "      border-left-color: var(--fill-color);\n",
              "    }\n",
              "    20% {\n",
              "      border-color: transparent;\n",
              "      border-left-color: var(--fill-color);\n",
              "      border-top-color: var(--fill-color);\n",
              "    }\n",
              "    30% {\n",
              "      border-color: transparent;\n",
              "      border-left-color: var(--fill-color);\n",
              "      border-top-color: var(--fill-color);\n",
              "      border-right-color: var(--fill-color);\n",
              "    }\n",
              "    40% {\n",
              "      border-color: transparent;\n",
              "      border-right-color: var(--fill-color);\n",
              "      border-top-color: var(--fill-color);\n",
              "    }\n",
              "    60% {\n",
              "      border-color: transparent;\n",
              "      border-right-color: var(--fill-color);\n",
              "    }\n",
              "    80% {\n",
              "      border-color: transparent;\n",
              "      border-right-color: var(--fill-color);\n",
              "      border-bottom-color: var(--fill-color);\n",
              "    }\n",
              "    90% {\n",
              "      border-color: transparent;\n",
              "      border-bottom-color: var(--fill-color);\n",
              "    }\n",
              "  }\n",
              "</style>\n",
              "\n",
              "  <script>\n",
              "    async function quickchart(key) {\n",
              "      const quickchartButtonEl =\n",
              "        document.querySelector('#' + key + ' button');\n",
              "      quickchartButtonEl.disabled = true;  // To prevent multiple clicks.\n",
              "      quickchartButtonEl.classList.add('colab-df-spinner');\n",
              "      try {\n",
              "        const charts = await google.colab.kernel.invokeFunction(\n",
              "            'suggestCharts', [key], {});\n",
              "      } catch (error) {\n",
              "        console.error('Error during call to suggestCharts:', error);\n",
              "      }\n",
              "      quickchartButtonEl.classList.remove('colab-df-spinner');\n",
              "      quickchartButtonEl.classList.add('colab-df-quickchart-complete');\n",
              "    }\n",
              "    (() => {\n",
              "      let quickchartButtonEl =\n",
              "        document.querySelector('#df-60be5df2-f134-450b-ba19-c1e33f5cf25c button');\n",
              "      quickchartButtonEl.style.display =\n",
              "        google.colab.kernel.accessAllowed ? 'block' : 'none';\n",
              "    })();\n",
              "  </script>\n",
              "</div>\n",
              "\n",
              "    </div>\n",
              "  </div>\n"
            ],
            "application/vnd.google.colaboratory.intrinsic+json": {
              "type": "dataframe",
              "summary": "{\n  \"name\": \"X_res\",\n  \"rows\": 3,\n  \"fields\": [\n    {\n      \"column\": \"size\",\n      \"properties\": {\n        \"dtype\": \"number\",\n        \"std\": 0.9736575855129851,\n        \"min\": 1.2348600058423838,\n        \"max\": 3.09779861428978,\n        \"num_unique_values\": 3,\n        \"samples\": [\n          1.2348600058423838,\n          3.09779861428978,\n          1.6752874713720791\n        ],\n        \"semantic_type\": \"\",\n        \"description\": \"\"\n      }\n    },\n    {\n      \"column\": \"roughness\",\n      \"properties\": {\n        \"dtype\": \"number\",\n        \"std\": 0.782679310732202,\n        \"min\": 0.0,\n        \"max\": 1.5128868253124623,\n        \"num_unique_values\": 3,\n        \"samples\": [\n          1.5128868253124623,\n          1.1044962831970275,\n          0.0\n        ],\n        \"semantic_type\": \"\",\n        \"description\": \"\"\n      }\n    },\n    {\n      \"column\": \"color\",\n      \"properties\": {\n        \"dtype\": \"string\",\n        \"num_unique_values\": 3,\n        \"samples\": [\n          \"brown\",\n          \"green\",\n          \"grey\"\n        ],\n        \"semantic_type\": \"\",\n        \"description\": \"\"\n      }\n    },\n    {\n      \"column\": \"motion\",\n      \"properties\": {\n        \"dtype\": \"number\",\n        \"std\": 2.132417966396348,\n        \"min\": 0.0139440434311566,\n        \"max\": 3.849492840518914,\n        \"num_unique_values\": 3,\n        \"samples\": [\n          0.316774721872443,\n          0.0139440434311566,\n          3.849492840518914\n        ],\n        \"semantic_type\": \"\",\n        \"description\": \"\"\n      }\n    }\n  ]\n}"
            }
          },
          "metadata": {},
          "execution_count": 13
        }
      ]
    },
    {
      "cell_type": "code",
      "source": [
        "# size of training set vs resampled set:\n",
        "print(f'y_train size: {y_train.size}')\n",
        "print(f'y_res set size: {y_res.size}')"
      ],
      "metadata": {
        "colab": {
          "base_uri": "https://localhost:8080/"
        },
        "id": "x8-KpTZmR7yT",
        "outputId": "6ae6ee5c-6649-401c-9866-1fed5f1ebc6e"
      },
      "execution_count": null,
      "outputs": [
        {
          "output_type": "stream",
          "name": "stdout",
          "text": [
            "y_train size: 1540\n",
            "y_res set size: 2312\n"
          ]
        }
      ]
    },
    {
      "cell_type": "code",
      "source": [
        "# class distribution in resampled data\n",
        "y_res.value_counts().sort_values(ascending=True)"
      ],
      "metadata": {
        "colab": {
          "base_uri": "https://localhost:8080/"
        },
        "id": "D8V-xgYxSct4",
        "outputId": "a34b7d2c-ce31-4ee6-eafc-9950c4357156"
      },
      "execution_count": null,
      "outputs": [
        {
          "output_type": "execute_result",
          "data": {
            "text/plain": [
              "label\n",
              "rock      578\n",
              "tree      578\n",
              "hiker     578\n",
              "animal    578\n",
              "Name: count, dtype: int64"
            ]
          },
          "metadata": {},
          "execution_count": 15
        }
      ]
    },
    {
      "cell_type": "code",
      "source": [
        "# class distribution in original training data\n",
        "y_train.value_counts().sort_values(ascending=True)"
      ],
      "metadata": {
        "colab": {
          "base_uri": "https://localhost:8080/"
        },
        "id": "QLTEudU9U7Pv",
        "outputId": "e5bf4494-4e22-43c6-e014-f6cd13eb5a8e"
      },
      "execution_count": null,
      "outputs": [
        {
          "output_type": "execute_result",
          "data": {
            "text/plain": [
              "label\n",
              "animal    136\n",
              "hiker     277\n",
              "tree      549\n",
              "rock      578\n",
              "Name: count, dtype: int64"
            ]
          },
          "metadata": {},
          "execution_count": 16
        }
      ]
    },
    {
      "cell_type": "markdown",
      "source": [
        "### Visualize the difference"
      ],
      "metadata": {
        "id": "qXU-IfjqS4yg"
      }
    },
    {
      "cell_type": "markdown",
      "source": [
        "#### `y_train` size vs `y_res` size\n",
        "> How does the size of the initial training set compare to the size of the resampled set?"
      ],
      "metadata": {
        "id": "4NjtESv4Th-J"
      }
    },
    {
      "cell_type": "code",
      "source": [
        "# import matplotlib\n",
        "import matplotlib.pyplot as plt\n",
        "plt.style.use('fast')\n",
        "\n",
        "# specify figure and Axes\n",
        "fig, ax = plt.subplots(figsize=(4, 4))\n",
        "\n",
        "# bar graph\n",
        "ax.bar(height = y_train.size, x='y_train size', color = '#264653')\n",
        "ax.bar(height = y_res.size, x='y_res size', color = '#F4A261' )\n",
        "\n",
        "# modify appearance\n",
        "ax.set_ylabel('Size')\n",
        "ax.set_xlabel('Dataset', weight='black')\n",
        "ax.set_yticks(range(0, 2500, 500))\n",
        "ax.set_title('y_train size vs y_test size')\n",
        "\n",
        "plt.show()"
      ],
      "metadata": {
        "colab": {
          "base_uri": "https://localhost:8080/",
          "height": 410
        },
        "id": "m1yek9C9S7fX",
        "outputId": "096b4f17-aad2-480e-bd9e-34ef7919d6e8"
      },
      "execution_count": null,
      "outputs": [
        {
          "output_type": "display_data",
          "data": {
            "text/plain": [
              "<Figure size 400x400 with 1 Axes>"
            ],
            "image/png": "[encoded data removed]"
          },
          "metadata": {}
        }
      ]
    },
    {
      "cell_type": "markdown",
      "source": [
        "#### `y_train` class distribution vs `y_res` class distribution\n",
        "> How does the label distribution in the initial training set compare to the label distribution in the resampled set?"
      ],
      "metadata": {
        "id": "PwvxUNXGTrt4"
      }
    },
    {
      "cell_type": "code",
      "source": [
        "# make a dataframe out of the y_train, y_res class count series\n",
        "df_compare = pd.DataFrame(\n",
        "    data = [y_train.value_counts().sort_index(ascending=True).values,\n",
        "                     y_res.value_counts().sort_index(ascending=True).values],\n",
        "    columns=['animal', 'hiker', 'rock', 'tree'],\n",
        "    index=['y_train', 'y_res'])\n",
        "\n",
        "# display the dataframe\n",
        "df_compare"
      ],
      "metadata": {
        "colab": {
          "base_uri": "https://localhost:8080/",
          "height": 125
        },
        "id": "dMRmbaupVFmG",
        "outputId": "134a20fd-8397-4054-983d-f637489ae883"
      },
      "execution_count": null,
      "outputs": [
        {
          "output_type": "execute_result",
          "data": {
            "text/plain": [
              "         animal  hiker  rock  tree\n",
              "y_train     136    277   578   549\n",
              "y_res       578    578   578   578"
            ],
            "text/html": [
              "\n",
              "  <div id=\"df-582b7173-d720-4d69-845b-e434fe419a71\" class=\"colab-df-container\">\n",
              "    <div>\n",
              "<style scoped>\n",
              "    .dataframe tbody tr th:only-of-type {\n",
              "        vertical-align: middle;\n",
              "    }\n",
              "\n",
              "    .dataframe tbody tr th {\n",
              "        vertical-align: top;\n",
              "    }\n",
              "\n",
              "    .dataframe thead th {\n",
              "        text-align: right;\n",
              "    }\n",
              "</style>\n",
              "<table border=\"1\" class=\"dataframe\">\n",
              "  <thead>\n",
              "    <tr style=\"text-align: right;\">\n",
              "      <th></th>\n",
              "      <th>animal</th>\n",
              "      <th>hiker</th>\n",
              "      <th>rock</th>\n",
              "      <th>tree</th>\n",
              "    </tr>\n",
              "  </thead>\n",
              "  <tbody>\n",
              "    <tr>\n",
              "      <th>y_train</th>\n",
              "      <td>136</td>\n",
              "      <td>277</td>\n",
              "      <td>578</td>\n",
              "      <td>549</td>\n",
              "    </tr>\n",
              "    <tr>\n",
              "      <th>y_res</th>\n",
              "      <td>578</td>\n",
              "      <td>578</td>\n",
              "      <td>578</td>\n",
              "      <td>578</td>\n",
              "    </tr>\n",
              "  </tbody>\n",
              "</table>\n",
              "</div>\n",
              "    <div class=\"colab-df-buttons\">\n",
              "\n",
              "  <div class=\"colab-df-container\">\n",
              "    <button class=\"colab-df-convert\" onclick=\"convertToInteractive('df-582b7173-d720-4d69-845b-e434fe419a71')\"\n",
              "            title=\"Convert this dataframe to an interactive table.\"\n",
              "            style=\"display:none;\">\n",
              "\n",
              "  <svg xmlns=\"http://www.w3.org/2000/svg\" height=\"24px\" viewBox=\"0 -960 960 960\">\n",
              "    <path d=\"M120-120v-720h720v720H120Zm60-500h600v-160H180v160Zm220 220h160v-160H400v160Zm0 220h160v-160H400v160ZM180-400h160v-160H180v160Zm440 0h160v-160H620v160ZM180-180h160v-160H180v160Zm440 0h160v-160H620v160Z\"/>\n",
              "  </svg>\n",
              "    </button>\n",
              "\n",
              "  <style>\n",
              "    .colab-df-container {\n",
              "      display:flex;\n",
              "      gap: 12px;\n",
              "    }\n",
              "\n",
              "    .colab-df-convert {\n",
              "      background-color: #E8F0FE;\n",
              "      border: none;\n",
              "      border-radius: 50%;\n",
              "      cursor: pointer;\n",
              "      display: none;\n",
              "      fill: #1967D2;\n",
              "      height: 32px;\n",
              "      padding: 0 0 0 0;\n",
              "      width: 32px;\n",
              "    }\n",
              "\n",
              "    .colab-df-convert:hover {\n",
              "      background-color: #E2EBFA;\n",
              "      box-shadow: 0px 1px 2px rgba(60, 64, 67, 0.3), 0px 1px 3px 1px rgba(60, 64, 67, 0.15);\n",
              "      fill: #174EA6;\n",
              "    }\n",
              "\n",
              "    .colab-df-buttons div {\n",
              "      margin-bottom: 4px;\n",
              "    }\n",
              "\n",
              "    [theme=dark] .colab-df-convert {\n",
              "      background-color: #3B4455;\n",
              "      fill: #D2E3FC;\n",
              "    }\n",
              "\n",
              "    [theme=dark] .colab-df-convert:hover {\n",
              "      background-color: #434B5C;\n",
              "      box-shadow: 0px 1px 3px 1px rgba(0, 0, 0, 0.15);\n",
              "      filter: drop-shadow(0px 1px 2px rgba(0, 0, 0, 0.3));\n",
              "      fill: #FFFFFF;\n",
              "    }\n",
              "  </style>\n",
              "\n",
              "    <script>\n",
              "      const buttonEl =\n",
              "        document.querySelector('#df-582b7173-d720-4d69-845b-e434fe419a71 button.colab-df-convert');\n",
              "      buttonEl.style.display =\n",
              "        google.colab.kernel.accessAllowed ? 'block' : 'none';\n",
              "\n",
              "      async function convertToInteractive(key) {\n",
              "        const element = document.querySelector('#df-582b7173-d720-4d69-845b-e434fe419a71');\n",
              "        const dataTable =\n",
              "          await google.colab.kernel.invokeFunction('convertToInteractive',\n",
              "                                                    [key], {});\n",
              "        if (!dataTable) return;\n",
              "\n",
              "        const docLinkHtml = 'Like what you see? Visit the ' +\n",
              "          '<a target=\"_blank\" href=https://colab.research.google.com/notebooks/data_table.ipynb>data table notebook</a>'\n",
              "          + ' to learn more about interactive tables.';\n",
              "        element.innerHTML = '';\n",
              "        dataTable['output_type'] = 'display_data';\n",
              "        await google.colab.output.renderOutput(dataTable, element);\n",
              "        const docLink = document.createElement('div');\n",
              "        docLink.innerHTML = docLinkHtml;\n",
              "        element.appendChild(docLink);\n",
              "      }\n",
              "    </script>\n",
              "  </div>\n",
              "\n",
              "\n",
              "<div id=\"df-a44e2781-aec7-4475-956f-fc573f0efaab\">\n",
              "  <button class=\"colab-df-quickchart\" onclick=\"quickchart('df-a44e2781-aec7-4475-956f-fc573f0efaab')\"\n",
              "            title=\"Suggest charts\"\n",
              "            style=\"display:none;\">\n",
              "\n",
              "<svg xmlns=\"http://www.w3.org/2000/svg\" height=\"24px\"viewBox=\"0 0 24 24\"\n",
              "     width=\"24px\">\n",
              "    <g>\n",
              "        <path d=\"M19 3H5c-1.1 0-2 .9-2 2v14c0 1.1.9 2 2 2h14c1.1 0 2-.9 2-2V5c0-1.1-.9-2-2-2zM9 17H7v-7h2v7zm4 0h-2V7h2v10zm4 0h-2v-4h2v4z\"/>\n",
              "    </g>\n",
              "</svg>\n",
              "  </button>\n",
              "\n",
              "<style>\n",
              "  .colab-df-quickchart {\n",
              "      --bg-color: #E8F0FE;\n",
              "      --fill-color: #1967D2;\n",
              "      --hover-bg-color: #E2EBFA;\n",
              "      --hover-fill-color: #174EA6;\n",
              "      --disabled-fill-color: #AAA;\n",
              "      --disabled-bg-color: #DDD;\n",
              "  }\n",
              "\n",
              "  [theme=dark] .colab-df-quickchart {\n",
              "      --bg-color: #3B4455;\n",
              "      --fill-color: #D2E3FC;\n",
              "      --hover-bg-color: #434B5C;\n",
              "      --hover-fill-color: #FFFFFF;\n",
              "      --disabled-bg-color: #3B4455;\n",
              "      --disabled-fill-color: #666;\n",
              "  }\n",
              "\n",
              "  .colab-df-quickchart {\n",
              "    background-color: var(--bg-color);\n",
              "    border: none;\n",
              "    border-radius: 50%;\n",
              "    cursor: pointer;\n",
              "    display: none;\n",
              "    fill: var(--fill-color);\n",
              "    height: 32px;\n",
              "    padding: 0;\n",
              "    width: 32px;\n",
              "  }\n",
              "\n",
              "  .colab-df-quickchart:hover {\n",
              "    background-color: var(--hover-bg-color);\n",
              "    box-shadow: 0 1px 2px rgba(60, 64, 67, 0.3), 0 1px 3px 1px rgba(60, 64, 67, 0.15);\n",
              "    fill: var(--button-hover-fill-color);\n",
              "  }\n",
              "\n",
              "  .colab-df-quickchart-complete:disabled,\n",
              "  .colab-df-quickchart-complete:disabled:hover {\n",
              "    background-color: var(--disabled-bg-color);\n",
              "    fill: var(--disabled-fill-color);\n",
              "    box-shadow: none;\n",
              "  }\n",
              "\n",
              "  .colab-df-spinner {\n",
              "    border: 2px solid var(--fill-color);\n",
              "    border-color: transparent;\n",
              "    border-bottom-color: var(--fill-color);\n",
              "    animation:\n",
              "      spin 1s steps(1) infinite;\n",
              "  }\n",
              "\n",
              "  @keyframes spin {\n",
              "    0% {\n",
              "      border-color: transparent;\n",
              "      border-bottom-color: var(--fill-color);\n",
              "      border-left-color: var(--fill-color);\n",
              "    }\n",
              "    20% {\n",
              "      border-color: transparent;\n",
              "      border-left-color: var(--fill-color);\n",
              "      border-top-color: var(--fill-color);\n",
              "    }\n",
              "    30% {\n",
              "      border-color: transparent;\n",
              "      border-left-color: var(--fill-color);\n",
              "      border-top-color: var(--fill-color);\n",
              "      border-right-color: var(--fill-color);\n",
              "    }\n",
              "    40% {\n",
              "      border-color: transparent;\n",
              "      border-right-color: var(--fill-color);\n",
              "      border-top-color: var(--fill-color);\n",
              "    }\n",
              "    60% {\n",
              "      border-color: transparent;\n",
              "      border-right-color: var(--fill-color);\n",
              "    }\n",
              "    80% {\n",
              "      border-color: transparent;\n",
              "      border-right-color: var(--fill-color);\n",
              "      border-bottom-color: var(--fill-color);\n",
              "    }\n",
              "    90% {\n",
              "      border-color: transparent;\n",
              "      border-bottom-color: var(--fill-color);\n",
              "    }\n",
              "  }\n",
              "</style>\n",
              "\n",
              "  <script>\n",
              "    async function quickchart(key) {\n",
              "      const quickchartButtonEl =\n",
              "        document.querySelector('#' + key + ' button');\n",
              "      quickchartButtonEl.disabled = true;  // To prevent multiple clicks.\n",
              "      quickchartButtonEl.classList.add('colab-df-spinner');\n",
              "      try {\n",
              "        const charts = await google.colab.kernel.invokeFunction(\n",
              "            'suggestCharts', [key], {});\n",
              "      } catch (error) {\n",
              "        console.error('Error during call to suggestCharts:', error);\n",
              "      }\n",
              "      quickchartButtonEl.classList.remove('colab-df-spinner');\n",
              "      quickchartButtonEl.classList.add('colab-df-quickchart-complete');\n",
              "    }\n",
              "    (() => {\n",
              "      let quickchartButtonEl =\n",
              "        document.querySelector('#df-a44e2781-aec7-4475-956f-fc573f0efaab button');\n",
              "      quickchartButtonEl.style.display =\n",
              "        google.colab.kernel.accessAllowed ? 'block' : 'none';\n",
              "    })();\n",
              "  </script>\n",
              "</div>\n",
              "\n",
              "  <div id=\"id_cdd69d83-dab8-4f10-b9b0-c5b66734290f\">\n",
              "    <style>\n",
              "      .colab-df-generate {\n",
              "        background-color: #E8F0FE;\n",
              "        border: none;\n",
              "        border-radius: 50%;\n",
              "        cursor: pointer;\n",
              "        display: none;\n",
              "        fill: #1967D2;\n",
              "        height: 32px;\n",
              "        padding: 0 0 0 0;\n",
              "        width: 32px;\n",
              "      }\n",
              "\n",
              "      .colab-df-generate:hover {\n",
              "        background-color: #E2EBFA;\n",
              "        box-shadow: 0px 1px 2px rgba(60, 64, 67, 0.3), 0px 1px 3px 1px rgba(60, 64, 67, 0.15);\n",
              "        fill: #174EA6;\n",
              "      }\n",
              "\n",
              "      [theme=dark] .colab-df-generate {\n",
              "        background-color: #3B4455;\n",
              "        fill: #D2E3FC;\n",
              "      }\n",
              "\n",
              "      [theme=dark] .colab-df-generate:hover {\n",
              "        background-color: #434B5C;\n",
              "        box-shadow: 0px 1px 3px 1px rgba(0, 0, 0, 0.15);\n",
              "        filter: drop-shadow(0px 1px 2px rgba(0, 0, 0, 0.3));\n",
              "        fill: #FFFFFF;\n",
              "      }\n",
              "    </style>\n",
              "    <button class=\"colab-df-generate\" onclick=\"generateWithVariable('df_compare')\"\n",
              "            title=\"Generate code using this dataframe.\"\n",
              "            style=\"display:none;\">\n",
              "\n",
              "  <svg xmlns=\"http://www.w3.org/2000/svg\" height=\"24px\"viewBox=\"0 0 24 24\"\n",
              "       width=\"24px\">\n",
              "    <path d=\"M7,19H8.4L18.45,9,17,7.55,7,17.6ZM5,21V16.75L18.45,3.32a2,2,0,0,1,2.83,0l1.4,1.43a1.91,1.91,0,0,1,.58,1.4,1.91,1.91,0,0,1-.58,1.4L9.25,21ZM18.45,9,17,7.55Zm-12,3A5.31,5.31,0,0,0,4.9,8.1,5.31,5.31,0,0,0,1,6.5,5.31,5.31,0,0,0,4.9,4.9,5.31,5.31,0,0,0,6.5,1,5.31,5.31,0,0,0,8.1,4.9,5.31,5.31,0,0,0,12,6.5,5.46,5.46,0,0,0,6.5,12Z\"/>\n",
              "  </svg>\n",
              "    </button>\n",
              "    <script>\n",
              "      (() => {\n",
              "      const buttonEl =\n",
              "        document.querySelector('#id_cdd69d83-dab8-4f10-b9b0-c5b66734290f button.colab-df-generate');\n",
              "      buttonEl.style.display =\n",
              "        google.colab.kernel.accessAllowed ? 'block' : 'none';\n",
              "\n",
              "      buttonEl.onclick = () => {\n",
              "        google.colab.notebook.generateWithVariable('df_compare');\n",
              "      }\n",
              "      })();\n",
              "    </script>\n",
              "  </div>\n",
              "\n",
              "    </div>\n",
              "  </div>\n"
            ],
            "application/vnd.google.colaboratory.intrinsic+json": {
              "type": "dataframe",
              "variable_name": "df_compare",
              "summary": "{\n  \"name\": \"df_compare\",\n  \"rows\": 2,\n  \"fields\": [\n    {\n      \"column\": \"animal\",\n      \"properties\": {\n        \"dtype\": \"number\",\n        \"std\": 312,\n        \"min\": 136,\n        \"max\": 578,\n        \"num_unique_values\": 2,\n        \"samples\": [\n          578,\n          136\n        ],\n        \"semantic_type\": \"\",\n        \"description\": \"\"\n      }\n    },\n    {\n      \"column\": \"hiker\",\n      \"properties\": {\n        \"dtype\": \"number\",\n        \"std\": 212,\n        \"min\": 277,\n        \"max\": 578,\n        \"num_unique_values\": 2,\n        \"samples\": [\n          578,\n          277\n        ],\n        \"semantic_type\": \"\",\n        \"description\": \"\"\n      }\n    },\n    {\n      \"column\": \"rock\",\n      \"properties\": {\n        \"dtype\": \"number\",\n        \"std\": 0,\n        \"min\": 578,\n        \"max\": 578,\n        \"num_unique_values\": 1,\n        \"samples\": [\n          578\n        ],\n        \"semantic_type\": \"\",\n        \"description\": \"\"\n      }\n    },\n    {\n      \"column\": \"tree\",\n      \"properties\": {\n        \"dtype\": \"number\",\n        \"std\": 20,\n        \"min\": 549,\n        \"max\": 578,\n        \"num_unique_values\": 2,\n        \"samples\": [\n          578\n        ],\n        \"semantic_type\": \"\",\n        \"description\": \"\"\n      }\n    }\n  ]\n}"
            }
          },
          "metadata": {},
          "execution_count": 18
        }
      ]
    },
    {
      "cell_type": "code",
      "source": [
        "# transpose the dataframe such that indices are columns and vice versa\n",
        "df_compare.T"
      ],
      "metadata": {
        "colab": {
          "base_uri": "https://localhost:8080/",
          "height": 175
        },
        "id": "zAPbmO0MP7BK",
        "outputId": "bde0a8cd-150e-4459-bd52-3b6ac8a527f4"
      },
      "execution_count": null,
      "outputs": [
        {
          "output_type": "execute_result",
          "data": {
            "text/plain": [
              "        y_train  y_res\n",
              "animal      136    578\n",
              "hiker       277    578\n",
              "rock        578    578\n",
              "tree        549    578"
            ],
            "text/html": [
              "\n",
              "  <div id=\"df-4e55afdc-8c2a-444a-a324-60217b6eda6e\" class=\"colab-df-container\">\n",
              "    <div>\n",
              "<style scoped>\n",
              "    .dataframe tbody tr th:only-of-type {\n",
              "        vertical-align: middle;\n",
              "    }\n",
              "\n",
              "    .dataframe tbody tr th {\n",
              "        vertical-align: top;\n",
              "    }\n",
              "\n",
              "    .dataframe thead th {\n",
              "        text-align: right;\n",
              "    }\n",
              "</style>\n",
              "<table border=\"1\" class=\"dataframe\">\n",
              "  <thead>\n",
              "    <tr style=\"text-align: right;\">\n",
              "      <th></th>\n",
              "      <th>y_train</th>\n",
              "      <th>y_res</th>\n",
              "    </tr>\n",
              "  </thead>\n",
              "  <tbody>\n",
              "    <tr>\n",
              "      <th>animal</th>\n",
              "      <td>136</td>\n",
              "      <td>578</td>\n",
              "    </tr>\n",
              "    <tr>\n",
              "      <th>hiker</th>\n",
              "      <td>277</td>\n",
              "      <td>578</td>\n",
              "    </tr>\n",
              "    <tr>\n",
              "      <th>rock</th>\n",
              "      <td>578</td>\n",
              "      <td>578</td>\n",
              "    </tr>\n",
              "    <tr>\n",
              "      <th>tree</th>\n",
              "      <td>549</td>\n",
              "      <td>578</td>\n",
              "    </tr>\n",
              "  </tbody>\n",
              "</table>\n",
              "</div>\n",
              "    <div class=\"colab-df-buttons\">\n",
              "\n",
              "  <div class=\"colab-df-container\">\n",
              "    <button class=\"colab-df-convert\" onclick=\"convertToInteractive('df-4e55afdc-8c2a-444a-a324-60217b6eda6e')\"\n",
              "            title=\"Convert this dataframe to an interactive table.\"\n",
              "            style=\"display:none;\">\n",
              "\n",
              "  <svg xmlns=\"http://www.w3.org/2000/svg\" height=\"24px\" viewBox=\"0 -960 960 960\">\n",
              "    <path d=\"M120-120v-720h720v720H120Zm60-500h600v-160H180v160Zm220 220h160v-160H400v160Zm0 220h160v-160H400v160ZM180-400h160v-160H180v160Zm440 0h160v-160H620v160ZM180-180h160v-160H180v160Zm440 0h160v-160H620v160Z\"/>\n",
              "  </svg>\n",
              "    </button>\n",
              "\n",
              "  <style>\n",
              "    .colab-df-container {\n",
              "      display:flex;\n",
              "      gap: 12px;\n",
              "    }\n",
              "\n",
              "    .colab-df-convert {\n",
              "      background-color: #E8F0FE;\n",
              "      border: none;\n",
              "      border-radius: 50%;\n",
              "      cursor: pointer;\n",
              "      display: none;\n",
              "      fill: #1967D2;\n",
              "      height: 32px;\n",
              "      padding: 0 0 0 0;\n",
              "      width: 32px;\n",
              "    }\n",
              "\n",
              "    .colab-df-convert:hover {\n",
              "      background-color: #E2EBFA;\n",
              "      box-shadow: 0px 1px 2px rgba(60, 64, 67, 0.3), 0px 1px 3px 1px rgba(60, 64, 67, 0.15);\n",
              "      fill: #174EA6;\n",
              "    }\n",
              "\n",
              "    .colab-df-buttons div {\n",
              "      margin-bottom: 4px;\n",
              "    }\n",
              "\n",
              "    [theme=dark] .colab-df-convert {\n",
              "      background-color: #3B4455;\n",
              "      fill: #D2E3FC;\n",
              "    }\n",
              "\n",
              "    [theme=dark] .colab-df-convert:hover {\n",
              "      background-color: #434B5C;\n",
              "      box-shadow: 0px 1px 3px 1px rgba(0, 0, 0, 0.15);\n",
              "      filter: drop-shadow(0px 1px 2px rgba(0, 0, 0, 0.3));\n",
              "      fill: #FFFFFF;\n",
              "    }\n",
              "  </style>\n",
              "\n",
              "    <script>\n",
              "      const buttonEl =\n",
              "        document.querySelector('#df-4e55afdc-8c2a-444a-a324-60217b6eda6e button.colab-df-convert');\n",
              "      buttonEl.style.display =\n",
              "        google.colab.kernel.accessAllowed ? 'block' : 'none';\n",
              "\n",
              "      async function convertToInteractive(key) {\n",
              "        const element = document.querySelector('#df-4e55afdc-8c2a-444a-a324-60217b6eda6e');\n",
              "        const dataTable =\n",
              "          await google.colab.kernel.invokeFunction('convertToInteractive',\n",
              "                                                    [key], {});\n",
              "        if (!dataTable) return;\n",
              "\n",
              "        const docLinkHtml = 'Like what you see? Visit the ' +\n",
              "          '<a target=\"_blank\" href=https://colab.research.google.com/notebooks/data_table.ipynb>data table notebook</a>'\n",
              "          + ' to learn more about interactive tables.';\n",
              "        element.innerHTML = '';\n",
              "        dataTable['output_type'] = 'display_data';\n",
              "        await google.colab.output.renderOutput(dataTable, element);\n",
              "        const docLink = document.createElement('div');\n",
              "        docLink.innerHTML = docLinkHtml;\n",
              "        element.appendChild(docLink);\n",
              "      }\n",
              "    </script>\n",
              "  </div>\n",
              "\n",
              "\n",
              "<div id=\"df-75f075b6-ef1e-4e17-9cc1-577671366669\">\n",
              "  <button class=\"colab-df-quickchart\" onclick=\"quickchart('df-75f075b6-ef1e-4e17-9cc1-577671366669')\"\n",
              "            title=\"Suggest charts\"\n",
              "            style=\"display:none;\">\n",
              "\n",
              "<svg xmlns=\"http://www.w3.org/2000/svg\" height=\"24px\"viewBox=\"0 0 24 24\"\n",
              "     width=\"24px\">\n",
              "    <g>\n",
              "        <path d=\"M19 3H5c-1.1 0-2 .9-2 2v14c0 1.1.9 2 2 2h14c1.1 0 2-.9 2-2V5c0-1.1-.9-2-2-2zM9 17H7v-7h2v7zm4 0h-2V7h2v10zm4 0h-2v-4h2v4z\"/>\n",
              "    </g>\n",
              "</svg>\n",
              "  </button>\n",
              "\n",
              "<style>\n",
              "  .colab-df-quickchart {\n",
              "      --bg-color: #E8F0FE;\n",
              "      --fill-color: #1967D2;\n",
              "      --hover-bg-color: #E2EBFA;\n",
              "      --hover-fill-color: #174EA6;\n",
              "      --disabled-fill-color: #AAA;\n",
              "      --disabled-bg-color: #DDD;\n",
              "  }\n",
              "\n",
              "  [theme=dark] .colab-df-quickchart {\n",
              "      --bg-color: #3B4455;\n",
              "      --fill-color: #D2E3FC;\n",
              "      --hover-bg-color: #434B5C;\n",
              "      --hover-fill-color: #FFFFFF;\n",
              "      --disabled-bg-color: #3B4455;\n",
              "      --disabled-fill-color: #666;\n",
              "  }\n",
              "\n",
              "  .colab-df-quickchart {\n",
              "    background-color: var(--bg-color);\n",
              "    border: none;\n",
              "    border-radius: 50%;\n",
              "    cursor: pointer;\n",
              "    display: none;\n",
              "    fill: var(--fill-color);\n",
              "    height: 32px;\n",
              "    padding: 0;\n",
              "    width: 32px;\n",
              "  }\n",
              "\n",
              "  .colab-df-quickchart:hover {\n",
              "    background-color: var(--hover-bg-color);\n",
              "    box-shadow: 0 1px 2px rgba(60, 64, 67, 0.3), 0 1px 3px 1px rgba(60, 64, 67, 0.15);\n",
              "    fill: var(--button-hover-fill-color);\n",
              "  }\n",
              "\n",
              "  .colab-df-quickchart-complete:disabled,\n",
              "  .colab-df-quickchart-complete:disabled:hover {\n",
              "    background-color: var(--disabled-bg-color);\n",
              "    fill: var(--disabled-fill-color);\n",
              "    box-shadow: none;\n",
              "  }\n",
              "\n",
              "  .colab-df-spinner {\n",
              "    border: 2px solid var(--fill-color);\n",
              "    border-color: transparent;\n",
              "    border-bottom-color: var(--fill-color);\n",
              "    animation:\n",
              "      spin 1s steps(1) infinite;\n",
              "  }\n",
              "\n",
              "  @keyframes spin {\n",
              "    0% {\n",
              "      border-color: transparent;\n",
              "      border-bottom-color: var(--fill-color);\n",
              "      border-left-color: var(--fill-color);\n",
              "    }\n",
              "    20% {\n",
              "      border-color: transparent;\n",
              "      border-left-color: var(--fill-color);\n",
              "      border-top-color: var(--fill-color);\n",
              "    }\n",
              "    30% {\n",
              "      border-color: transparent;\n",
              "      border-left-color: var(--fill-color);\n",
              "      border-top-color: var(--fill-color);\n",
              "      border-right-color: var(--fill-color);\n",
              "    }\n",
              "    40% {\n",
              "      border-color: transparent;\n",
              "      border-right-color: var(--fill-color);\n",
              "      border-top-color: var(--fill-color);\n",
              "    }\n",
              "    60% {\n",
              "      border-color: transparent;\n",
              "      border-right-color: var(--fill-color);\n",
              "    }\n",
              "    80% {\n",
              "      border-color: transparent;\n",
              "      border-right-color: var(--fill-color);\n",
              "      border-bottom-color: var(--fill-color);\n",
              "    }\n",
              "    90% {\n",
              "      border-color: transparent;\n",
              "      border-bottom-color: var(--fill-color);\n",
              "    }\n",
              "  }\n",
              "</style>\n",
              "\n",
              "  <script>\n",
              "    async function quickchart(key) {\n",
              "      const quickchartButtonEl =\n",
              "        document.querySelector('#' + key + ' button');\n",
              "      quickchartButtonEl.disabled = true;  // To prevent multiple clicks.\n",
              "      quickchartButtonEl.classList.add('colab-df-spinner');\n",
              "      try {\n",
              "        const charts = await google.colab.kernel.invokeFunction(\n",
              "            'suggestCharts', [key], {});\n",
              "      } catch (error) {\n",
              "        console.error('Error during call to suggestCharts:', error);\n",
              "      }\n",
              "      quickchartButtonEl.classList.remove('colab-df-spinner');\n",
              "      quickchartButtonEl.classList.add('colab-df-quickchart-complete');\n",
              "    }\n",
              "    (() => {\n",
              "      let quickchartButtonEl =\n",
              "        document.querySelector('#df-75f075b6-ef1e-4e17-9cc1-577671366669 button');\n",
              "      quickchartButtonEl.style.display =\n",
              "        google.colab.kernel.accessAllowed ? 'block' : 'none';\n",
              "    })();\n",
              "  </script>\n",
              "</div>\n",
              "\n",
              "    </div>\n",
              "  </div>\n"
            ],
            "application/vnd.google.colaboratory.intrinsic+json": {
              "type": "dataframe",
              "summary": "{\n  \"name\": \"df_compare\",\n  \"rows\": 4,\n  \"fields\": [\n    {\n      \"column\": \"y_train\",\n      \"properties\": {\n        \"dtype\": \"number\",\n        \"std\": 214,\n        \"min\": 136,\n        \"max\": 578,\n        \"num_unique_values\": 4,\n        \"samples\": [\n          277,\n          549,\n          136\n        ],\n        \"semantic_type\": \"\",\n        \"description\": \"\"\n      }\n    },\n    {\n      \"column\": \"y_res\",\n      \"properties\": {\n        \"dtype\": \"number\",\n        \"std\": 0,\n        \"min\": 578,\n        \"max\": 578,\n        \"num_unique_values\": 1,\n        \"samples\": [\n          578\n        ],\n        \"semantic_type\": \"\",\n        \"description\": \"\"\n      }\n    }\n  ]\n}"
            }
          },
          "metadata": {},
          "execution_count": 19
        }
      ]
    },
    {
      "cell_type": "code",
      "source": [
        "# import matplotlib\n",
        "import matplotlib.pyplot as plt\n",
        "plt.style.use('fast')\n",
        "\n",
        "# specify figure and Axes\n",
        "fig, ax = plt.subplots(figsize=(5.5, 4))\n",
        "\n",
        "# bar graph\n",
        "df_compare.T.plot.bar(y=['y_train', 'y_res'],\n",
        "                      width = 0.7,\n",
        "                      color = ['#264653', '#F4A261'],\n",
        "                      ax = ax)\n",
        "\n",
        "# modify appearance\n",
        "ax.set_ylabel('Count')\n",
        "ax.set_xlabel('Label')\n",
        "ax.set_title('y_train vs y_res class distribution')\n",
        "ax.set_xticklabels(df_compare.T.index,\n",
        "                   rotation=0, weight='black', fontsize=9)\n",
        "ax.set_ylim(0, 700)\n",
        "\n",
        "plt.legend(ncols=2)\n",
        "plt.show()"
      ],
      "metadata": {
        "colab": {
          "base_uri": "https://localhost:8080/",
          "height": 409
        },
        "id": "D2MMzEOfSs4f",
        "outputId": "3d09dae4-4fa6-4476-ad68-d3c5883aa951"
      },
      "execution_count": null,
      "outputs": [
        {
          "output_type": "display_data",
          "data": {
            "text/plain": [
              "<Figure size 550x400 with 1 Axes>"
            ],
            "image/png": "[encoded data removed]"
          },
          "metadata": {}
        }
      ]
    },
    {
      "cell_type": "markdown",
      "source": [
        "# **Modelling**\n"
      ],
      "metadata": {
        "id": "G9pkIRvNQJcs"
      }
    },
    {
      "cell_type": "markdown",
      "source": [
        "## Preprocessing\n",
        "> To preprocess the features, a [`ColumnTransformer`](https://scikit-learn.org/stable/modules/generated/sklearn.compose.ColumnTransformer.html) will be used to wrap _transformers_ in form of [`Pipelines`](https://scikit-learn.org/stable/modules/generated/sklearn.pipeline.Pipeline.html#sklearn.pipeline.Pipeline)"
      ],
      "metadata": {
        "id": "z3VYJtxwUob4"
      }
    },
    {
      "cell_type": "code",
      "source": [
        "# import\n",
        "from sklearn.pipeline import Pipeline\n",
        "from sklearn.impute import SimpleImputer\n",
        "from sklearn.compose import ColumnTransformer\n",
        "from sklearn.preprocessing import OneHotEncoder\n",
        "from sklearn.preprocessing import StandardScaler"
      ],
      "metadata": {
        "id": "VmAV-G4nI2vU"
      },
      "execution_count": null,
      "outputs": []
    },
    {
      "cell_type": "code",
      "source": [
        "# scale numeric features\n",
        "num_transformer = Pipeline(steps=[\n",
        "    # (name of step, transform)\n",
        "    ('impute', SimpleImputer(strategy='median')), #handle missing values\n",
        "    ('scale', StandardScaler()) # scale\n",
        "])\n",
        "\n",
        "# encode categorical features\n",
        "cat_transformer = Pipeline(steps=[\n",
        "    # (name of step, transform)\n",
        "    ('impute', SimpleImputer(strategy='most_frequent')), # handle missing values\n",
        "    ('encode', OneHotEncoder(handle_unknown='ignore')) # encode\n",
        "])\n",
        "\n",
        "# wrap both transformers in a ColumnTransformer object\n",
        "preprocessor = ColumnTransformer(transformers=[\n",
        "    # (name, transformer, columns)\n",
        "    ('num', num_transformer, numerical_features), # numerical\n",
        "    ('cat', cat_transformer, categorical_features) # categorical\n",
        "])"
      ],
      "metadata": {
        "id": "5FzKWFr0IN0c"
      },
      "execution_count": null,
      "outputs": []
    },
    {
      "cell_type": "markdown",
      "source": [
        "## Training a classification model\n",
        "> To keep it simple, I'll use a [`RandomForestClassifier`](https://scikit-learn.org/stable/modules/generated/sklearn.ensemble.RandomForestClassifier.html)\n",
        "+ More powerful classification models will be explored in an upcoming repository"
      ],
      "metadata": {
        "id": "TaOfWJ8QUKUo"
      }
    },
    {
      "cell_type": "code",
      "source": [
        "%%time\n",
        "from sklearn.ensemble import RandomForestClassifier\n",
        "\n",
        "# # pipeline with preprocessor and default estimator parameters\n",
        "forest_pipeline = Pipeline(steps=[\n",
        "    # (step_name, transform)\n",
        "    ('preprocess', preprocessor),\n",
        "    ('rfc', RandomForestClassifier(random_state=42, n_estimators=200))\n",
        "])\n",
        "\n",
        "# train the model with the resampled datasets\n",
        "forest_pipeline.fit(X_res, y_res)\n",
        "\n",
        "# make prediction using the test set\n",
        "y_pred = forest_pipeline.predict(X_test)\n",
        "print('')"
      ],
      "metadata": {
        "colab": {
          "base_uri": "https://localhost:8080/"
        },
        "id": "a7IdoN7OUU4J",
        "outputId": "ffd1a9bf-040f-490a-d66c-b1599101ac6b"
      },
      "execution_count": null,
      "outputs": [
        {
          "output_type": "stream",
          "name": "stdout",
          "text": [
            "\n",
            "CPU times: user 868 ms, sys: 12.4 ms, total: 881 ms\n",
            "Wall time: 884 ms\n"
          ]
        }
      ]
    },
    {
      "cell_type": "markdown",
      "source": [
        "## Plotting a confusion matrix using [`ConfusionMatrixDisplay`](https://scikit-learn.org/stable/modules/generated/sklearn.metrics.ConfusionMatrixDisplay.html#confusionmatrixdisplay)"
      ],
      "metadata": {
        "id": "WvtWiwoVWwFP"
      }
    },
    {
      "cell_type": "code",
      "source": [
        "import matplotlib.pyplot as plt\n",
        "from sklearn.metrics import ConfusionMatrixDisplay\n",
        "\n",
        "# make a subplot:\n",
        "fig, ax = plt.subplots(figsize=(3.5, 3.5))\n",
        "\n",
        "# plot the matrix\n",
        "ConfusionMatrixDisplay.from_predictions(y_test, y_pred,\n",
        "                                        cmap='Blues',\n",
        "                                        colorbar=False,\n",
        "                                        ax = ax)\n",
        "\n",
        "# modify appearance\n",
        "ax.set_xlabel('Predicted Labels', weight='black', color='#E52B50')\n",
        "ax.set_ylabel('True Labels', weight='black', color='#003262')\n",
        "\n",
        "# move xaxis label & ticks to the top\n",
        "ax.xaxis.tick_top()\n",
        "ax.xaxis.set_label_position('top')\n",
        "\n",
        "plt.show()"
      ],
      "metadata": {
        "colab": {
          "base_uri": "https://localhost:8080/",
          "height": 346
        },
        "id": "Bm6rkGkaWvFV",
        "outputId": "b97a20dd-9832-42c8-d72f-fce082670dfb"
      },
      "execution_count": null,
      "outputs": [
        {
          "output_type": "display_data",
          "data": {
            "text/plain": [
              "<Figure size 350x350 with 1 Axes>"
            ],
            "image/png": "[encoded data removed]"
          },
          "metadata": {}
        }
      ]
    },
    {
      "cell_type": "code",
      "source": [
        "# class counts in the test set for comparison\n",
        "y_test.value_counts()"
      ],
      "metadata": {
        "colab": {
          "base_uri": "https://localhost:8080/"
        },
        "id": "NPzigP8Xjqkg",
        "outputId": "37838ec3-bf73-4044-e58a-c8d44aaf98be"
      },
      "execution_count": null,
      "outputs": [
        {
          "output_type": "execute_result",
          "data": {
            "text/plain": [
              "label\n",
              "tree      251\n",
              "rock      222\n",
              "hiker     123\n",
              "animal     64\n",
              "Name: count, dtype: int64"
            ]
          },
          "metadata": {},
          "execution_count": 26
        }
      ]
    },
    {
      "cell_type": "markdown",
      "source": [
        "# **Evaluation**"
      ],
      "metadata": {
        "id": "GlqqwdJ2iMKT"
      }
    },
    {
      "cell_type": "code",
      "source": [
        "# import metrics\n",
        "from sklearn.metrics import accuracy_score\n",
        "from sklearn.metrics import classification_report\n",
        "from imblearn.metrics import classification_report_imbalanced"
      ],
      "metadata": {
        "id": "Z0AP6opTGPeF"
      },
      "execution_count": null,
      "outputs": []
    },
    {
      "cell_type": "markdown",
      "source": [
        "### [`accuracy_score`](https://scikit-learn.org/stable/modules/generated/sklearn.metrics.accuracy_score.html)"
      ],
      "metadata": {
        "id": "ya-w8-QOF_Ng"
      }
    },
    {
      "cell_type": "code",
      "source": [
        "acc = accuracy_score(y_test, y_pred)\n",
        "print('Accuracy score: ', round(acc, 2))"
      ],
      "metadata": {
        "colab": {
          "base_uri": "https://localhost:8080/"
        },
        "id": "_MmpAxAXGASn",
        "outputId": "bee4a1ab-a61e-4792-a81b-59262546337b"
      },
      "execution_count": null,
      "outputs": [
        {
          "output_type": "stream",
          "name": "stdout",
          "text": [
            "Accuracy score:  0.93\n"
          ]
        }
      ]
    },
    {
      "cell_type": "markdown",
      "source": [
        "### [`sklearn.metrics.classification_report()`](https://scikit-learn.org/stable/modules/generated/sklearn.metrics.classification_report.html)"
      ],
      "metadata": {
        "id": "eTrHu6XsGEby"
      }
    },
    {
      "cell_type": "code",
      "source": [
        "# sklearn classification report\n",
        "print(classification_report(y_test, y_pred))"
      ],
      "metadata": {
        "colab": {
          "base_uri": "https://localhost:8080/"
        },
        "id": "sjYp0MNyGFUQ",
        "outputId": "3bd0c124-0575-4af7-bfed-e5ada427ae93"
      },
      "execution_count": null,
      "outputs": [
        {
          "output_type": "stream",
          "name": "stdout",
          "text": [
            "              precision    recall  f1-score   support\n",
            "\n",
            "      animal       0.65      0.78      0.71        64\n",
            "       hiker       0.87      0.76      0.81       123\n",
            "        rock       0.98      1.00      0.99       222\n",
            "        tree       1.00      0.99      1.00       251\n",
            "\n",
            "    accuracy                           0.93       660\n",
            "   macro avg       0.88      0.88      0.88       660\n",
            "weighted avg       0.94      0.93      0.93       660\n",
            "\n"
          ]
        }
      ]
    },
    {
      "cell_type": "markdown",
      "source": [
        "### [`imblearn.metrics.classification_report_imbalanced()`](https://imbalanced-learn.org/stable/references/generated/imblearn.metrics.classification_report_imbalanced.html)"
      ],
      "metadata": {
        "id": "igVYxzbLGLgN"
      }
    },
    {
      "cell_type": "code",
      "source": [
        "# imblearn classification report\n",
        "print(classification_report_imbalanced(y_test, y_pred))"
      ],
      "metadata": {
        "colab": {
          "base_uri": "https://localhost:8080/"
        },
        "id": "ITjE4XbAGMbu",
        "outputId": "0a839888-de47-460b-d36a-c50164dcb5db"
      },
      "execution_count": null,
      "outputs": [
        {
          "output_type": "stream",
          "name": "stdout",
          "text": [
            "                   pre       rec       spe        f1       geo       iba       sup\n",
            "\n",
            "     animal       0.65      0.78      0.95      0.71      0.86      0.73        64\n",
            "      hiker       0.87      0.76      0.97      0.81      0.86      0.73       123\n",
            "       rock       0.98      1.00      0.99      0.99      1.00      0.99       222\n",
            "       tree       1.00      0.99      1.00      1.00      1.00      0.99       251\n",
            "\n",
            "avg / total       0.94      0.93      0.99      0.93      0.96      0.92       660\n",
            "\n"
          ]
        }
      ]
    },
    {
      "cell_type": "markdown",
      "source": [
        "# **Conclusion**\n",
        "> In this notebook, I've implemented the following:\n",
        "\n",
        "> + Resampled training datasets using multiple sampling methods. However, I chose `SMOTENC` since one of the features, `color` was categorical. Also, `SMOTENC` yielded the best results in the confusion matrix\n",
        "> + Stratified sampling, even though not documented here\n",
        "\n",
        "> Despite all that, there seems to be dismal improvement in the model's overall performance 💔\n",
        "+ `F1` score for the `animal` class increased from `0.67` to `0.71`, whereas the `F1` score for the `hiker` class decreased from `0.83` to `0.81` (comaped to the previous notebook where the training set had not been resampled)"
      ],
      "metadata": {
        "id": "pV0lQynPE4Zh"
      }
    },
    {
      "cell_type": "markdown",
      "source": [
        "> 💡 **Insight**  \n",
        "> + Clearly, __quality data selection__ wins over oversampling (especially if the minority classes are inherently lacking in size and diversity) since the model still performs poorly on the `animal` and `hiker` classes, even after resampling\n"
      ],
      "metadata": {
        "id": "3vsymwjRMszg"
      }
    },
    {
      "cell_type": "markdown",
      "source": [
        "> ▶️ **Up Next**  \n",
        "+ Compute Receiver operating Characteristic Curve - `RocCurve`\n",
        "+ Area Under Curve - `AUC`"
      ],
      "metadata": {
        "id": "wX0Hd8NsNHPl"
      }
    }
  ]
}